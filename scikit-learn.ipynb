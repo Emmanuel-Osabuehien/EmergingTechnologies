{
 "cells": [
  {
   "cell_type": "markdown",
   "id": "939259e2-bff1-4e75-81b4-3347c65f815c",
   "metadata": {},
   "source": [
    "# Scikit-Learn\n",
    "***"
   ]
  },
  {
   "cell_type": "markdown",
   "id": "a64bd3c8-e098-46d5-8288-79478b371338",
   "metadata": {},
   "source": [
    "<br>\n",
    "\n",
    "## Overview of scikit-learn python library\n",
    "\n",
    "***\n",
    "\n",
    "<a href='https://github.com/Emmanuel-Osabuehien/EmergingTechnologyProject'> <img src='scikit.png' /></a>"
   ]
  },
  {
   "cell_type": "markdown",
   "id": "b7fd79a4-5031-44b3-bb2f-97d2e1b02dfc",
   "metadata": {
    "tags": []
   },
   "source": [
    "<br>\n",
    "\n",
    "<h4>What is Scikit-Learn?</h4>\n",
    "\n",
    "Scikit-Learn is a open source library, machine learning library in Python which features a variety of technology and algorithms,\n",
    "some of which will be demonstrated below.\n",
    "    \n",
    "It is considered the peak of Machine Learning, as it it is considering the easiest to understand and use and is well documented and with just some lines of code you can do so much, e.g. with just a few lines of code you can create a model that can predict outcomes just with the use other python technology and libraries.\n",
    "    \n",
    "Technology that many developers may be familiar with or is very common in Python includes Matplotlib, Pandas and NumPy.\n",
    "    \n",
    "Algorithms that are common in Scikit-Learn include Regression, Clustering, Model Learning and Classification."
   ]
  },
  {
   "cell_type": "markdown",
   "id": "c0e03c61-2de7-44ff-b9d1-333321fd051e",
   "metadata": {},
   "source": [
    "<br>\n",
    "\n",
    "## Handwritten Digits Recognition<a name = \"hdr\"></a>\n",
    "\n",
    "***"
   ]
  },
  {
   "cell_type": "markdown",
   "id": "ee653c24-69e6-41b7-9335-ef0d3a37497c",
   "metadata": {},
   "source": [
    "<br>\n",
    "\n",
    "### Imports\n",
    "\n",
    "***\n",
    "\n",
    "Here we will import all the necessary python libraries and tools necessary for our algorithm."
   ]
  },
  {
   "cell_type": "code",
   "execution_count": 1,
   "id": "c83c11f2-76af-4a61-880c-2366c52551e4",
   "metadata": {},
   "outputs": [],
   "source": [
    "# Standard Imports\n",
    "import pandas as pd\n",
    "import matplotlib.pyplot as plt  \n",
    "import numpy as np\n",
    "import seaborn as sn\n",
    "import joblib\n",
    "\n",
    "# Enabling inlnie plotting\n",
    "%matplotlib inline\n",
    "\n",
    "# Importing datasets, metrics and classifiers\n",
    "from sklearn import svm, metrics, datasets\n",
    "from sklearn.utils import shuffle\n",
    "from sklearn.datasets import load_digits\n",
    "from sklearn.model_selection import train_test_split\n",
    "from sklearn.linear_model import LogisticRegression\n",
    "from sklearn.metrics import confusion_matrix"
   ]
  },
  {
   "cell_type": "markdown",
   "id": "3c2f7676-b5d7-46bc-8d94-d242cd046943",
   "metadata": {},
   "source": [
    "<br>\n",
    "\n",
    "### Importing Dataset\n",
    "\n",
    "***\n",
    "\n",
    "The scikit-learn library contains a package of datasets that can be used for many different algortihms.\n",
    "<br>\n",
    "Here I will be utilizing the load the digits dataset i.e. load_digits()."
   ]
  },
  {
   "cell_type": "markdown",
   "id": "17c7163c-dbdb-4911-a47e-46b932068f4c",
   "metadata": {},
   "source": [
    "<br>\n",
    "\n",
    "### Description\n",
    "\n",
    "***\n",
    "\n",
    "We can read any information regarding the dataset, this can be achieved by priniting the load_digits() dataset.\n",
    "<br>\n",
    "When the dataset is printed we can then view the description of the dataset, the authors, and the references.\n",
    "<br>\n",
    "All datasets in the scikit-learn library contains similar information."
   ]
  },
  {
   "cell_type": "code",
   "execution_count": 2,
   "id": "43bc2748-8b0e-4101-84d5-cbd26a9067e2",
   "metadata": {},
   "outputs": [
    {
     "data": {
      "text/plain": [
       "{'data': array([[ 0.,  0.,  5., ...,  0.,  0.,  0.],\n",
       "        [ 0.,  0.,  0., ..., 10.,  0.,  0.],\n",
       "        [ 0.,  0.,  0., ..., 16.,  9.,  0.],\n",
       "        ...,\n",
       "        [ 0.,  0.,  1., ...,  6.,  0.,  0.],\n",
       "        [ 0.,  0.,  2., ..., 12.,  0.,  0.],\n",
       "        [ 0.,  0., 10., ..., 12.,  1.,  0.]]),\n",
       " 'target': array([0, 1, 2, ..., 8, 9, 8]),\n",
       " 'frame': None,\n",
       " 'feature_names': ['pixel_0_0',\n",
       "  'pixel_0_1',\n",
       "  'pixel_0_2',\n",
       "  'pixel_0_3',\n",
       "  'pixel_0_4',\n",
       "  'pixel_0_5',\n",
       "  'pixel_0_6',\n",
       "  'pixel_0_7',\n",
       "  'pixel_1_0',\n",
       "  'pixel_1_1',\n",
       "  'pixel_1_2',\n",
       "  'pixel_1_3',\n",
       "  'pixel_1_4',\n",
       "  'pixel_1_5',\n",
       "  'pixel_1_6',\n",
       "  'pixel_1_7',\n",
       "  'pixel_2_0',\n",
       "  'pixel_2_1',\n",
       "  'pixel_2_2',\n",
       "  'pixel_2_3',\n",
       "  'pixel_2_4',\n",
       "  'pixel_2_5',\n",
       "  'pixel_2_6',\n",
       "  'pixel_2_7',\n",
       "  'pixel_3_0',\n",
       "  'pixel_3_1',\n",
       "  'pixel_3_2',\n",
       "  'pixel_3_3',\n",
       "  'pixel_3_4',\n",
       "  'pixel_3_5',\n",
       "  'pixel_3_6',\n",
       "  'pixel_3_7',\n",
       "  'pixel_4_0',\n",
       "  'pixel_4_1',\n",
       "  'pixel_4_2',\n",
       "  'pixel_4_3',\n",
       "  'pixel_4_4',\n",
       "  'pixel_4_5',\n",
       "  'pixel_4_6',\n",
       "  'pixel_4_7',\n",
       "  'pixel_5_0',\n",
       "  'pixel_5_1',\n",
       "  'pixel_5_2',\n",
       "  'pixel_5_3',\n",
       "  'pixel_5_4',\n",
       "  'pixel_5_5',\n",
       "  'pixel_5_6',\n",
       "  'pixel_5_7',\n",
       "  'pixel_6_0',\n",
       "  'pixel_6_1',\n",
       "  'pixel_6_2',\n",
       "  'pixel_6_3',\n",
       "  'pixel_6_4',\n",
       "  'pixel_6_5',\n",
       "  'pixel_6_6',\n",
       "  'pixel_6_7',\n",
       "  'pixel_7_0',\n",
       "  'pixel_7_1',\n",
       "  'pixel_7_2',\n",
       "  'pixel_7_3',\n",
       "  'pixel_7_4',\n",
       "  'pixel_7_5',\n",
       "  'pixel_7_6',\n",
       "  'pixel_7_7'],\n",
       " 'target_names': array([0, 1, 2, 3, 4, 5, 6, 7, 8, 9]),\n",
       " 'images': array([[[ 0.,  0.,  5., ...,  1.,  0.,  0.],\n",
       "         [ 0.,  0., 13., ..., 15.,  5.,  0.],\n",
       "         [ 0.,  3., 15., ..., 11.,  8.,  0.],\n",
       "         ...,\n",
       "         [ 0.,  4., 11., ..., 12.,  7.,  0.],\n",
       "         [ 0.,  2., 14., ..., 12.,  0.,  0.],\n",
       "         [ 0.,  0.,  6., ...,  0.,  0.,  0.]],\n",
       " \n",
       "        [[ 0.,  0.,  0., ...,  5.,  0.,  0.],\n",
       "         [ 0.,  0.,  0., ...,  9.,  0.,  0.],\n",
       "         [ 0.,  0.,  3., ...,  6.,  0.,  0.],\n",
       "         ...,\n",
       "         [ 0.,  0.,  1., ...,  6.,  0.,  0.],\n",
       "         [ 0.,  0.,  1., ...,  6.,  0.,  0.],\n",
       "         [ 0.,  0.,  0., ..., 10.,  0.,  0.]],\n",
       " \n",
       "        [[ 0.,  0.,  0., ..., 12.,  0.,  0.],\n",
       "         [ 0.,  0.,  3., ..., 14.,  0.,  0.],\n",
       "         [ 0.,  0.,  8., ..., 16.,  0.,  0.],\n",
       "         ...,\n",
       "         [ 0.,  9., 16., ...,  0.,  0.,  0.],\n",
       "         [ 0.,  3., 13., ..., 11.,  5.,  0.],\n",
       "         [ 0.,  0.,  0., ..., 16.,  9.,  0.]],\n",
       " \n",
       "        ...,\n",
       " \n",
       "        [[ 0.,  0.,  1., ...,  1.,  0.,  0.],\n",
       "         [ 0.,  0., 13., ...,  2.,  1.,  0.],\n",
       "         [ 0.,  0., 16., ..., 16.,  5.,  0.],\n",
       "         ...,\n",
       "         [ 0.,  0., 16., ..., 15.,  0.,  0.],\n",
       "         [ 0.,  0., 15., ..., 16.,  0.,  0.],\n",
       "         [ 0.,  0.,  2., ...,  6.,  0.,  0.]],\n",
       " \n",
       "        [[ 0.,  0.,  2., ...,  0.,  0.,  0.],\n",
       "         [ 0.,  0., 14., ..., 15.,  1.,  0.],\n",
       "         [ 0.,  4., 16., ..., 16.,  7.,  0.],\n",
       "         ...,\n",
       "         [ 0.,  0.,  0., ..., 16.,  2.,  0.],\n",
       "         [ 0.,  0.,  4., ..., 16.,  2.,  0.],\n",
       "         [ 0.,  0.,  5., ..., 12.,  0.,  0.]],\n",
       " \n",
       "        [[ 0.,  0., 10., ...,  1.,  0.,  0.],\n",
       "         [ 0.,  2., 16., ...,  1.,  0.,  0.],\n",
       "         [ 0.,  0., 15., ..., 15.,  0.,  0.],\n",
       "         ...,\n",
       "         [ 0.,  4., 16., ..., 16.,  6.,  0.],\n",
       "         [ 0.,  8., 16., ..., 16.,  8.,  0.],\n",
       "         [ 0.,  1.,  8., ..., 12.,  1.,  0.]]]),\n",
       " 'DESCR': \".. _digits_dataset:\\n\\nOptical recognition of handwritten digits dataset\\n--------------------------------------------------\\n\\n**Data Set Characteristics:**\\n\\n    :Number of Instances: 1797\\n    :Number of Attributes: 64\\n    :Attribute Information: 8x8 image of integer pixels in the range 0..16.\\n    :Missing Attribute Values: None\\n    :Creator: E. Alpaydin (alpaydin '@' boun.edu.tr)\\n    :Date: July; 1998\\n\\nThis is a copy of the test set of the UCI ML hand-written digits datasets\\nhttps://archive.ics.uci.edu/ml/datasets/Optical+Recognition+of+Handwritten+Digits\\n\\nThe data set contains images of hand-written digits: 10 classes where\\neach class refers to a digit.\\n\\nPreprocessing programs made available by NIST were used to extract\\nnormalized bitmaps of handwritten digits from a preprinted form. From a\\ntotal of 43 people, 30 contributed to the training set and different 13\\nto the test set. 32x32 bitmaps are divided into nonoverlapping blocks of\\n4x4 and the number of on pixels are counted in each block. This generates\\nan input matrix of 8x8 where each element is an integer in the range\\n0..16. This reduces dimensionality and gives invariance to small\\ndistortions.\\n\\nFor info on NIST preprocessing routines, see M. D. Garris, J. L. Blue, G.\\nT. Candela, D. L. Dimmick, J. Geist, P. J. Grother, S. A. Janet, and C.\\nL. Wilson, NIST Form-Based Handprint Recognition System, NISTIR 5469,\\n1994.\\n\\n.. topic:: References\\n\\n  - C. Kaynak (1995) Methods of Combining Multiple Classifiers and Their\\n    Applications to Handwritten Digit Recognition, MSc Thesis, Institute of\\n    Graduate Studies in Science and Engineering, Bogazici University.\\n  - E. Alpaydin, C. Kaynak (1998) Cascading Classifiers, Kybernetika.\\n  - Ken Tang and Ponnuthurai N. Suganthan and Xi Yao and A. Kai Qin.\\n    Linear dimensionalityreduction using relevance weighted LDA. School of\\n    Electrical and Electronic Engineering Nanyang Technological University.\\n    2005.\\n  - Claudio Gentile. A New Approximate Maximal Margin Classification\\n    Algorithm. NIPS. 2000.\\n\"}"
      ]
     },
     "execution_count": 2,
     "metadata": {},
     "output_type": "execute_result"
    }
   ],
   "source": [
    "# Loading digits from dataset\n",
    "digits = load_digits()\n",
    "# Printing the dataset array\n",
    "digits"
   ]
  },
  {
   "cell_type": "code",
   "execution_count": 3,
   "id": "9a71218f-09a1-4b23-960a-503092129806",
   "metadata": {},
   "outputs": [
    {
     "data": {
      "text/plain": [
       "['DESCR', 'data', 'feature_names', 'frame', 'images', 'target', 'target_names']"
      ]
     },
     "execution_count": 3,
     "metadata": {},
     "output_type": "execute_result"
    }
   ],
   "source": [
    "# returns all properties and methods of the specified object, without the values\n",
    "dir(digits)"
   ]
  },
  {
   "cell_type": "markdown",
   "id": "769b7fa5-6e2f-4be8-b6e8-55f4369663aa",
   "metadata": {
    "tags": []
   },
   "source": [
    "<br>\n",
    "\n",
    "### Targets\n",
    "\n",
    "***\n",
    "\n",
    "Targets are numbers in a dataset which are defined by images, these targets are stored in an array and is output using the digits.target() function."
   ]
  },
  {
   "cell_type": "code",
   "execution_count": 4,
   "id": "d00bf003-3ae1-4b16-9d7f-afb32f50be25",
   "metadata": {},
   "outputs": [
    {
     "name": "stdout",
     "output_type": "stream",
     "text": [
      "<class 'numpy.ndarray'>\n",
      "<class 'numpy.ndarray'>\n"
     ]
    }
   ],
   "source": [
    "# Printing the data type of the images attribute\n",
    "print(type(digits.images))\n",
    "\n",
    "# Printing the data type of target attribute\n",
    "print(type(digits.target))"
   ]
  },
  {
   "cell_type": "markdown",
   "id": "514d0f68-f589-4129-9c4e-4d8431b8417e",
   "metadata": {},
   "source": [
    "<br>\n",
    "\n",
    "### Shape\n",
    "\n",
    "***\n",
    "\n",
    "The shape refers to the size of the dataset which is output by calling the digits.images.shape() function."
   ]
  },
  {
   "cell_type": "code",
   "execution_count": 5,
   "id": "91f21ed7-0cf3-4a79-8fc8-6d851e023150",
   "metadata": {},
   "outputs": [
    {
     "data": {
      "text/plain": [
       "(1797, 8, 8)"
      ]
     },
     "execution_count": 5,
     "metadata": {},
     "output_type": "execute_result"
    }
   ],
   "source": [
    "# Retrieving the shape of the array\n",
    "digits.images.shape"
   ]
  },
  {
   "cell_type": "markdown",
   "id": "e0dd134c-8b69-4305-8a8e-cddb527aa9f3",
   "metadata": {},
   "source": [
    "<br>\n",
    "\n",
    "### Images\n",
    "\n",
    "***\n",
    "\n",
    "The images of digits in the dataset are stored in the aforementioned array. Each element of this array is an image contained in 8x8 matrix of numbers to correlate to grayscale from white, with a value of 0, to black, with the value 15."
   ]
  },
  {
   "cell_type": "code",
   "execution_count": 6,
   "id": "6adddfe0-8ad4-428a-bc7b-5d2501a064aa",
   "metadata": {},
   "outputs": [
    {
     "name": "stdout",
     "output_type": "stream",
     "text": [
      "[[ 0.  0.  5. 13.  9.  1.  0.  0.]\n",
      " [ 0.  0. 13. 15. 10. 15.  5.  0.]\n",
      " [ 0.  3. 15.  2.  0. 11.  8.  0.]\n",
      " [ 0.  4. 12.  0.  0.  8.  8.  0.]\n",
      " [ 0.  5.  8.  0.  0.  9.  8.  0.]\n",
      " [ 0.  4. 11.  0.  1. 12.  7.  0.]\n",
      " [ 0.  2. 14.  5. 10. 12.  0.  0.]\n",
      " [ 0.  0.  6. 13. 10.  0.  0.  0.]]\n"
     ]
    }
   ],
   "source": [
    "# Prininting values of 0 in an 8x8 array\n",
    "print(digits.images[0])"
   ]
  },
  {
   "cell_type": "code",
   "execution_count": 7,
   "id": "4fd48c79-bcf8-47db-8c2e-4c0fe120c067",
   "metadata": {
    "tags": []
   },
   "outputs": [
    {
     "name": "stdout",
     "output_type": "stream",
     "text": [
      "(1797,)\n",
      "[0 1 2 ... 8 9 8]\n"
     ]
    }
   ],
   "source": [
    "# Printing the shape of the array of target attribute\n",
    "print(digits.target.shape)\n",
    "\n",
    "# Printing the target attribute\n",
    "print(digits.target)"
   ]
  },
  {
   "cell_type": "markdown",
   "id": "3caf9b48-7b88-4461-b384-f0339f24d1f1",
   "metadata": {},
   "source": [
    "<br>\n",
    "\n",
    "### Viewing The Digits In The Array\n",
    "\n",
    "***\n",
    "\n",
    "Python contains library to use to display these digits in the array as in image such as NumPy and Matplotlib, here I will print the first 10 digits in the array.\n",
    "\n",
    "This is acheived by:\n",
    "\n",
    "- Setting the nrows (number of rows) to 1 and ncols (number of columns) to 10.\n",
    "- Setting the figsize() (this is a function is used to create a new figure) to (15,7).\n",
    "- The two lists are then fused together by using zip() function.\n",
    "- Displaying the data as an image using the plt.imshow() function.\n",
    "- Displaying the grayscale image using the cmap = gray_r parameter.\n",
    "- Displaying the images without trying to interpolate between pixels, if the display resolution is not the same as the image resolution (which is most often the case). It will result an image in which pixels are displayed as a square of multiple pixels. This is done by using the interpolation=\"nearest\" parameter.\n",
    "- The title for each graph is display using the set_title() function."
   ]
  },
  {
   "cell_type": "code",
   "execution_count": 8,
   "id": "88eeb41b-83c0-4b91-b21e-bdee43ea4105",
   "metadata": {},
   "outputs": [
    {
     "data": {
      "image/png": "[encoded data removed]",
      "text/plain": [
       "<Figure size 1080x504 with 10 Axes>"
      ]
     },
     "metadata": {
      "needs_background": "light"
     },
     "output_type": "display_data"
    }
   ],
   "source": [
    "# Drawing multiple plots into one single figure\n",
    "_, axes = plt.subplots(nrows=1, ncols=10, figsize=(15, 7))\n",
    "for ax, image, label in zip(axes, digits.images, digits.target):\n",
    "    ax.set_axis_off()\n",
    "    ax.imshow(image, cmap=plt.cm.gray_r, interpolation=\"nearest\")\n",
    "    ax.set_title(\"Training: %i\" % label)"
   ]
  },
  {
   "cell_type": "code",
   "execution_count": 9,
   "id": "c44e4a65-d13e-41d1-95ab-f77053586696",
   "metadata": {},
   "outputs": [
    {
     "data": {
      "image/png": "[encoded data removed]",
      "text/plain": [
       "<Figure size 288x288 with 1 Axes>"
      ]
     },
     "metadata": {
      "needs_background": "light"
     },
     "output_type": "display_data"
    },
    {
     "data": {
      "image/png": "[encoded data removed]",
      "text/plain": [
       "<Figure size 288x288 with 1 Axes>"
      ]
     },
     "metadata": {
      "needs_background": "light"
     },
     "output_type": "display_data"
    },
    {
     "data": {
      "image/png": "[encoded data removed]",
      "text/plain": [
       "<Figure size 288x288 with 1 Axes>"
      ]
     },
     "metadata": {
      "needs_background": "light"
     },
     "output_type": "display_data"
    },
    {
     "data": {
      "image/png": "[encoded data removed]",
      "text/plain": [
       "<Figure size 288x288 with 1 Axes>"
      ]
     },
     "metadata": {
      "needs_background": "light"
     },
     "output_type": "display_data"
    },
    {
     "data": {
      "image/png": "[encoded data removed]",
      "text/plain": [
       "<Figure size 288x288 with 1 Axes>"
      ]
     },
     "metadata": {
      "needs_background": "light"
     },
     "output_type": "display_data"
    }
   ],
   "source": [
    "# Drawing the array as a matrix into one single figure\n",
    "for i in range(5):\n",
    "    plt.matshow(digits.images[i])"
   ]
  },
  {
   "cell_type": "code",
   "execution_count": 10,
   "id": "bbe970c2-f86c-4df6-96d0-233e151719fd",
   "metadata": {},
   "outputs": [
    {
     "data": {
      "text/plain": [
       "array([ 0.,  0.,  5., 13.,  9.,  1.,  0.,  0.,  0.,  0., 13., 15., 10.,\n",
       "       15.,  5.,  0.,  0.,  3., 15.,  2.,  0., 11.,  8.,  0.,  0.,  4.,\n",
       "       12.,  0.,  0.,  8.,  8.,  0.,  0.,  5.,  8.,  0.,  0.,  9.,  8.,\n",
       "        0.,  0.,  4., 11.,  0.,  1., 12.,  7.,  0.,  0.,  2., 14.,  5.,\n",
       "       10., 12.,  0.,  0.,  0.,  0.,  6., 13., 10.,  0.,  0.,  0.])"
      ]
     },
     "execution_count": 10,
     "metadata": {},
     "output_type": "execute_result"
    }
   ],
   "source": [
    "digits.data[0]"
   ]
  },
  {
   "cell_type": "markdown",
   "id": "098c4b18-212a-42d4-ab6a-476fd743d08d",
   "metadata": {},
   "source": [
    "<br>\n",
    "\n",
    "### Defining The Model\n",
    "\n",
    "***\n",
    "\n",
    "We will be using the Support Vector Classification as our classifier."
   ]
  },
  {
   "cell_type": "code",
   "execution_count": 11,
   "id": "7b2e0722-b12d-4afc-a172-7de9ac697d6a",
   "metadata": {},
   "outputs": [],
   "source": [
    "# Create a logistic regression classifier\n",
    "clf = svm.SVC(gamma=0.001, C=100.)"
   ]
  },
  {
   "cell_type": "markdown",
   "id": "1c634daf-7b95-4e26-b59d-719049e4cb9c",
   "metadata": {},
   "source": [
    "<br>\n",
    "\n",
    "### Flattening Images\n",
    "\n",
    "***\n",
    "\n",
    "Here we will flatten the array into 64-pixel values so that each pixel corresponds to a column for the classifier.\n",
    "\n",
    "This is achieved by:\n",
    "\n",
    "- Setting the number of images in the dataset using the len() function.\n",
    "- Retrieving the array that has been reshaped using the reshape() function."
   ]
  },
  {
   "cell_type": "markdown",
   "id": "2047c6a3-31d8-45f8-896d-272a9be308bf",
   "metadata": {},
   "source": [
    "<br>\n",
    "\n",
    "### Splitting Dataset\n",
    "\n",
    "***\n",
    "\n",
    "The training set is a initial set of data in the class and the test set is a another set of data used to test a machine learning program after it has been trained.\n",
    "<br>\n",
    "The data is split by setting the test_size to 0.2."
   ]
  },
  {
   "cell_type": "code",
   "execution_count": 12,
   "id": "ee1b2836-4396-4d47-a9c4-649dc5dad692",
   "metadata": {},
   "outputs": [],
   "source": [
    "# Flattening the images\n",
    "n_samples = len(digits.images)\n",
    "data = digits.images.reshape((n_samples, -1))\n",
    "\n",
    "# Splitting data into train and test subsets\n",
    "x_train, x_test, y_train, y_test = train_test_split(\n",
    "    digits.data, digits.target, test_size=0.2\n",
    ")"
   ]
  },
  {
   "cell_type": "markdown",
   "id": "29a9d403-6b60-4cdf-b9c4-e1c56099118c",
   "metadata": {},
   "source": [
    "<br>\n",
    "\n",
    "### Training The Model\n",
    "\n",
    "***\n",
    "\n",
    "Here we will train the classifier by calling the fit() function."
   ]
  },
  {
   "cell_type": "code",
   "execution_count": 13,
   "id": "208081c3-9c95-438a-a188-fb6466fdbeb3",
   "metadata": {},
   "outputs": [
    {
     "data": {
      "text/plain": [
       "SVC(C=100.0, gamma=0.001)"
      ]
     },
     "execution_count": 13,
     "metadata": {},
     "output_type": "execute_result"
    }
   ],
   "source": [
    "# Fitting on the train samples\n",
    "clf.fit(x_train, y_train)"
   ]
  },
  {
   "cell_type": "markdown",
   "id": "62ff8ba1-bf15-4691-b218-6927a92a33eb",
   "metadata": {},
   "source": [
    "<br>\n",
    "\n",
    "### Testing Accuracy\n",
    "\n",
    "***\n",
    "\n",
    "Here we can retrieve the accuracy of the model by calling the score() function and displaying the accuracy percentage."
   ]
  },
  {
   "cell_type": "markdown",
   "id": "1485750a-4800-4963-b918-7965de513ae7",
   "metadata": {},
   "source": [
    "<br>\n",
    "\n",
    "### Testing The Model\n",
    "\n",
    "***\n",
    "\n",
    "Here we will test the classifier using it to interpret the digits of the test set using predict() function."
   ]
  },
  {
   "cell_type": "code",
   "execution_count": 14,
   "id": "520cfcf2-1dbe-4255-84ba-6350713c6fad",
   "metadata": {},
   "outputs": [
    {
     "name": "stdout",
     "output_type": "stream",
     "text": [
      "Accuracy is : 98.0 %\n"
     ]
    }
   ],
   "source": [
    "# Calculating the accuracy score\n",
    "score = clf.score(x_test, y_test)\n",
    "\n",
    "# Printing the score\n",
    "print(\"Accuracy is :\",round(score,2)*100,\"%\")"
   ]
  },
  {
   "cell_type": "code",
   "execution_count": 15,
   "id": "67ae5ee1-ab50-4169-be38-fc2190cd6182",
   "metadata": {},
   "outputs": [
    {
     "data": {
      "text/plain": [
       "array([0, 1, 2, 3, 4])"
      ]
     },
     "execution_count": 15,
     "metadata": {},
     "output_type": "execute_result"
    }
   ],
   "source": [
    "# Predicting the labels of the data values\n",
    "clf.predict(digits.data[0:5])"
   ]
  },
  {
   "cell_type": "markdown",
   "id": "04fbab28-4bb1-4623-a9f5-dab6a6a3c8c9",
   "metadata": {},
   "source": [
    "<br>\n",
    "\n",
    "### Viewing Predicted Digits\n",
    "\n",
    "***\n",
    "\n",
    "Here we will plot the image of the predicted digits, where it will accept the digits and test that digit is correct."
   ]
  },
  {
   "cell_type": "code",
   "execution_count": 16,
   "id": "83d777ff-572f-4bb2-bdbe-b6cfa5e78cd1",
   "metadata": {},
   "outputs": [
    {
     "name": "stdout",
     "output_type": "stream",
     "text": [
      "prediction:  8\n"
     ]
    },
    {
     "data": {
      "image/png": "[encoded data removed]",
      "text/plain": [
       "<Figure size 432x288 with 1 Axes>"
      ]
     },
     "metadata": {
      "needs_background": "light"
     },
     "output_type": "display_data"
    }
   ],
   "source": [
    "# Assigning 'prediction' the value of the prediction of the x_test subset\n",
    "prediction = clf.predict(x_test)\n",
    "\n",
    "# Showing the images and the labels\n",
    "index = 3\n",
    "plt.imshow(np.reshape(x_test[index],(8,8)), cmap = \"gray\")\n",
    "print(\"prediction: \", clf.predict([x_test[index]])[0])"
   ]
  },
  {
   "cell_type": "markdown",
   "id": "9c9c83df-081d-4636-9941-239fd4665a76",
   "metadata": {},
   "source": [
    "<br>\n",
    "\n",
    "### Confusion Matrix\n",
    "\n",
    "***\n",
    "\n",
    "Here we will plot the confusion matrix of the test data, a confusion matrix is performance measurement for machine learning classification problem represented in a table, this is called using the confusion_matrix()."
   ]
  },
  {
   "cell_type": "code",
   "execution_count": 17,
   "id": "fb74c3c8-facf-48c0-95f8-0c30d881fab6",
   "metadata": {},
   "outputs": [
    {
     "name": "stdout",
     "output_type": "stream",
     "text": [
      "Confusion Matrix:\n",
      "\n"
     ]
    },
    {
     "data": {
      "text/plain": [
       "array([[35,  0,  0,  0,  0,  0,  0,  0,  0,  0],\n",
       "       [ 0, 37,  0,  0,  0,  0,  0,  0,  0,  0],\n",
       "       [ 0,  0, 27,  0,  0,  0,  0,  0,  0,  0],\n",
       "       [ 0,  0,  0, 41,  0,  0,  0,  0,  0,  0],\n",
       "       [ 0,  0,  0,  0, 44,  0,  0,  0,  0,  0],\n",
       "       [ 0,  0,  0,  0,  0, 38,  0,  0,  0,  1],\n",
       "       [ 0,  0,  0,  0,  0,  0, 29,  0,  0,  0],\n",
       "       [ 0,  0,  0,  0,  0,  0,  0, 28,  0,  1],\n",
       "       [ 0,  3,  0,  0,  0,  0,  0,  0, 36,  0],\n",
       "       [ 0,  0,  0,  0,  0,  0,  0,  0,  1, 39]], dtype=int64)"
      ]
     },
     "execution_count": 17,
     "metadata": {},
     "output_type": "execute_result"
    }
   ],
   "source": [
    "# Printing a confusion matrix of true and predicted values\n",
    "print(f\"Confusion Matrix:\\n\")\n",
    "cm = confusion_matrix(y_test, prediction)\n",
    "cm"
   ]
  },
  {
   "cell_type": "code",
   "execution_count": 18,
   "id": "338fab3b-ee46-49c7-926a-d338390c3605",
   "metadata": {},
   "outputs": [
    {
     "data": {
      "text/plain": [
       "Text(69.0, 0.5, 'Truth')"
      ]
     },
     "execution_count": 18,
     "metadata": {},
     "output_type": "execute_result"
    },
    {
     "data": {
      "image/png": "[encoded data removed]",
      "text/plain": [
       "<Figure size 720x504 with 2 Axes>"
      ]
     },
     "metadata": {
      "needs_background": "light"
     },
     "output_type": "display_data"
    }
   ],
   "source": [
    "# Plotting the confusion matrix\n",
    "plt.figure(figsize = (10, 7))\n",
    "plt.title(\"Confusion Matrix\")\n",
    "\n",
    "# Representing data in a heatmap (two dimensional graph)\n",
    "sn.heatmap(cm, annot = True)\n",
    "plt.xlabel('Predicted')\n",
    "plt.ylabel('Truth')"
   ]
  },
  {
   "cell_type": "markdown",
   "id": "5a2a03d7-0bd9-4be3-bd2c-bb4f65940dc5",
   "metadata": {},
   "source": [
    "<br>\n",
    "\n",
    "## Decision Tree Classification<a name = \"dtc\"></a>\n",
    "\n",
    "***"
   ]
  },
  {
   "cell_type": "markdown",
   "id": "0aaeb35c-aa2e-4f98-8f4c-9885a94f3925",
   "metadata": {},
   "source": [
    "<br>\n",
    "\n",
    "### Imports\n",
    "\n",
    "***\n",
    "\n",
    "Here we will import all the necessary python libraries and tools necessary for our algorithm."
   ]
  },
  {
   "cell_type": "code",
   "execution_count": 19,
   "id": "2e9eca6e-0571-4f47-a9f0-dbbc3e167b6c",
   "metadata": {},
   "outputs": [],
   "source": [
    "# Standard imports\n",
    "import pandas as pd\n",
    "import matplotlib.pyplot as plt  \n",
    "import numpy as np\n",
    "import seaborn as sn\n",
    "\n",
    "# Enabling inline ploting\n",
    "%matplotlib inline\n",
    "\n",
    "# Importing datasets, metrics and classifiers\n",
    "from sklearn.tree import DecisionTreeClassifier, plot_tree\n",
    "from sklearn.model_selection import train_test_split, cross_val_score\n",
    "from sklearn.metrics import confusion_matrix, plot_confusion_matrix, ConfusionMatrixDisplay"
   ]
  },
  {
   "cell_type": "markdown",
   "id": "0a08e304-b4b6-4e1d-a4d2-f0e10c7514b5",
   "metadata": {},
   "source": [
    "<br>\n",
    "\n",
    "### Importing Dataset\n",
    "\n",
    "***\n",
    "\n",
    "Here I will be using a dataset called the processed.cleveland.data.csv, this dataset contains data collected by Cleveland Clinic Foundation in Switzerland regarding it's hospital patients records and allows us to predict if a patient has heart disease based on their details such as age, sex, blood pressure, etc.\n",
    "\n",
    "This dataset is public and can be downloaded from this link:\n",
    "\n",
    "<a href=\"https://archive.ics.uci.edu/ml/datasets/heart+disease\">UCI Machine Learning Repository</a>"
   ]
  },
  {
   "cell_type": "markdown",
   "id": "eecebbe7-1e17-4479-ae57-914af388b30b",
   "metadata": {},
   "source": [
    "<br>\n",
    "\n",
    "### Head\n",
    "\n",
    "***\n",
    "\n",
    "The head() method displays the first 5 rows from the dataset."
   ]
  },
  {
   "cell_type": "code",
   "execution_count": 20,
   "id": "2cde8797-da05-45f9-9ae8-d8826b3505ea",
   "metadata": {},
   "outputs": [
    {
     "data": {
      "text/html": [
       "<div>\n",
       "<style scoped>\n",
       "    .dataframe tbody tr th:only-of-type {\n",
       "        vertical-align: middle;\n",
       "    }\n",
       "\n",
       "    .dataframe tbody tr th {\n",
       "        vertical-align: top;\n",
       "    }\n",
       "\n",
       "    .dataframe thead th {\n",
       "        text-align: right;\n",
       "    }\n",
       "</style>\n",
       "<table border=\"1\" class=\"dataframe\">\n",
       "  <thead>\n",
       "    <tr style=\"text-align: right;\">\n",
       "      <th></th>\n",
       "      <th>0</th>\n",
       "      <th>1</th>\n",
       "      <th>2</th>\n",
       "      <th>3</th>\n",
       "      <th>4</th>\n",
       "      <th>5</th>\n",
       "      <th>6</th>\n",
       "      <th>7</th>\n",
       "      <th>8</th>\n",
       "      <th>9</th>\n",
       "      <th>10</th>\n",
       "      <th>11</th>\n",
       "      <th>12</th>\n",
       "      <th>13</th>\n",
       "    </tr>\n",
       "  </thead>\n",
       "  <tbody>\n",
       "    <tr>\n",
       "      <th>0</th>\n",
       "      <td>63.0</td>\n",
       "      <td>1.0</td>\n",
       "      <td>1.0</td>\n",
       "      <td>145.0</td>\n",
       "      <td>233.0</td>\n",
       "      <td>1.0</td>\n",
       "      <td>2.0</td>\n",
       "      <td>150.0</td>\n",
       "      <td>0.0</td>\n",
       "      <td>2.3</td>\n",
       "      <td>3.0</td>\n",
       "      <td>0.0</td>\n",
       "      <td>6.0</td>\n",
       "      <td>0</td>\n",
       "    </tr>\n",
       "    <tr>\n",
       "      <th>1</th>\n",
       "      <td>67.0</td>\n",
       "      <td>1.0</td>\n",
       "      <td>4.0</td>\n",
       "      <td>160.0</td>\n",
       "      <td>286.0</td>\n",
       "      <td>0.0</td>\n",
       "      <td>2.0</td>\n",
       "      <td>108.0</td>\n",
       "      <td>1.0</td>\n",
       "      <td>1.5</td>\n",
       "      <td>2.0</td>\n",
       "      <td>3.0</td>\n",
       "      <td>3.0</td>\n",
       "      <td>2</td>\n",
       "    </tr>\n",
       "    <tr>\n",
       "      <th>2</th>\n",
       "      <td>67.0</td>\n",
       "      <td>1.0</td>\n",
       "      <td>4.0</td>\n",
       "      <td>120.0</td>\n",
       "      <td>229.0</td>\n",
       "      <td>0.0</td>\n",
       "      <td>2.0</td>\n",
       "      <td>129.0</td>\n",
       "      <td>1.0</td>\n",
       "      <td>2.6</td>\n",
       "      <td>2.0</td>\n",
       "      <td>2.0</td>\n",
       "      <td>7.0</td>\n",
       "      <td>1</td>\n",
       "    </tr>\n",
       "    <tr>\n",
       "      <th>3</th>\n",
       "      <td>37.0</td>\n",
       "      <td>1.0</td>\n",
       "      <td>3.0</td>\n",
       "      <td>130.0</td>\n",
       "      <td>250.0</td>\n",
       "      <td>0.0</td>\n",
       "      <td>0.0</td>\n",
       "      <td>187.0</td>\n",
       "      <td>0.0</td>\n",
       "      <td>3.5</td>\n",
       "      <td>3.0</td>\n",
       "      <td>0.0</td>\n",
       "      <td>3.0</td>\n",
       "      <td>0</td>\n",
       "    </tr>\n",
       "    <tr>\n",
       "      <th>4</th>\n",
       "      <td>41.0</td>\n",
       "      <td>0.0</td>\n",
       "      <td>2.0</td>\n",
       "      <td>130.0</td>\n",
       "      <td>204.0</td>\n",
       "      <td>0.0</td>\n",
       "      <td>2.0</td>\n",
       "      <td>172.0</td>\n",
       "      <td>0.0</td>\n",
       "      <td>1.4</td>\n",
       "      <td>1.0</td>\n",
       "      <td>0.0</td>\n",
       "      <td>3.0</td>\n",
       "      <td>0</td>\n",
       "    </tr>\n",
       "  </tbody>\n",
       "</table>\n",
       "</div>"
      ],
      "text/plain": [
       "     0    1    2      3      4    5    6      7    8    9    10   11   12  13\n",
       "0  63.0  1.0  1.0  145.0  233.0  1.0  2.0  150.0  0.0  2.3  3.0  0.0  6.0   0\n",
       "1  67.0  1.0  4.0  160.0  286.0  0.0  2.0  108.0  1.0  1.5  2.0  3.0  3.0   2\n",
       "2  67.0  1.0  4.0  120.0  229.0  0.0  2.0  129.0  1.0  2.6  2.0  2.0  7.0   1\n",
       "3  37.0  1.0  3.0  130.0  250.0  0.0  0.0  187.0  0.0  3.5  3.0  0.0  3.0   0\n",
       "4  41.0  0.0  2.0  130.0  204.0  0.0  2.0  172.0  0.0  1.4  1.0  0.0  3.0   0"
      ]
     },
     "execution_count": 20,
     "metadata": {},
     "output_type": "execute_result"
    }
   ],
   "source": [
    "# Reading in the imported dataset\n",
    "df = pd.read_csv('processed.cleveland.data', header=None)\n",
    "\n",
    "# Retrieves the first 5 rows of the dataframe\n",
    "df.head()"
   ]
  },
  {
   "cell_type": "markdown",
   "id": "32135774-e86a-462b-846a-eff725b92c08",
   "metadata": {},
   "source": [
    "<br>\n",
    "\n",
    "### Retrieving Missing Data\n",
    "\n",
    "***\n",
    "\n",
    "Here we see we that are not is not correctly formatted, we must identify this missing data and solve this issue.\n",
    "<br>\n",
    "The missing data is just a '?' when we display the dataset as if the information is N/A or was not collected at all.\n",
    "\n",
    "To solve this issue we can take two different approaches:\n",
    "\n",
    "- We can simply delete the entire row of data from the dataset.\n",
    "- We can estimate what the data for the missing values, filling the row with a predicted value based on the specific metrics.\n",
    "\n",
    "Here we will assess the issue and figure out which approach we will take to solve the problem."
   ]
  },
  {
   "cell_type": "code",
   "execution_count": 21,
   "id": "c92549dd-12f5-4709-b6ba-9d645becacd2",
   "metadata": {},
   "outputs": [
    {
     "data": {
      "text/plain": [
       "0     float64\n",
       "1     float64\n",
       "2     float64\n",
       "3     float64\n",
       "4     float64\n",
       "5     float64\n",
       "6     float64\n",
       "7     float64\n",
       "8     float64\n",
       "9     float64\n",
       "10    float64\n",
       "11     object\n",
       "12     object\n",
       "13      int64\n",
       "dtype: object"
      ]
     },
     "execution_count": 21,
     "metadata": {},
     "output_type": "execute_result"
    }
   ],
   "source": [
    "# Retrieves the data types of each column in the dataframe\n",
    "df.dtypes"
   ]
  },
  {
   "cell_type": "code",
   "execution_count": 22,
   "id": "963d9645-8a9a-4dcc-8dd8-538cec2c2488",
   "metadata": {},
   "outputs": [
    {
     "data": {
      "text/html": [
       "<div>\n",
       "<style scoped>\n",
       "    .dataframe tbody tr th:only-of-type {\n",
       "        vertical-align: middle;\n",
       "    }\n",
       "\n",
       "    .dataframe tbody tr th {\n",
       "        vertical-align: top;\n",
       "    }\n",
       "\n",
       "    .dataframe thead th {\n",
       "        text-align: right;\n",
       "    }\n",
       "</style>\n",
       "<table border=\"1\" class=\"dataframe\">\n",
       "  <thead>\n",
       "    <tr style=\"text-align: right;\">\n",
       "      <th></th>\n",
       "      <th>age</th>\n",
       "      <th>gender</th>\n",
       "      <th>chest_pain</th>\n",
       "      <th>resting_bp</th>\n",
       "      <th>cholesterol</th>\n",
       "      <th>fasting_bs</th>\n",
       "      <th>resting_ecg</th>\n",
       "      <th>thalach</th>\n",
       "      <th>exang</th>\n",
       "      <th>oldpeak</th>\n",
       "      <th>slope</th>\n",
       "      <th>ca</th>\n",
       "      <th>thal</th>\n",
       "      <th>hd</th>\n",
       "    </tr>\n",
       "  </thead>\n",
       "  <tbody>\n",
       "    <tr>\n",
       "      <th>0</th>\n",
       "      <td>63.0</td>\n",
       "      <td>1.0</td>\n",
       "      <td>1.0</td>\n",
       "      <td>145.0</td>\n",
       "      <td>233.0</td>\n",
       "      <td>1.0</td>\n",
       "      <td>2.0</td>\n",
       "      <td>150.0</td>\n",
       "      <td>0.0</td>\n",
       "      <td>2.3</td>\n",
       "      <td>3.0</td>\n",
       "      <td>0.0</td>\n",
       "      <td>6.0</td>\n",
       "      <td>0</td>\n",
       "    </tr>\n",
       "    <tr>\n",
       "      <th>1</th>\n",
       "      <td>67.0</td>\n",
       "      <td>1.0</td>\n",
       "      <td>4.0</td>\n",
       "      <td>160.0</td>\n",
       "      <td>286.0</td>\n",
       "      <td>0.0</td>\n",
       "      <td>2.0</td>\n",
       "      <td>108.0</td>\n",
       "      <td>1.0</td>\n",
       "      <td>1.5</td>\n",
       "      <td>2.0</td>\n",
       "      <td>3.0</td>\n",
       "      <td>3.0</td>\n",
       "      <td>2</td>\n",
       "    </tr>\n",
       "    <tr>\n",
       "      <th>2</th>\n",
       "      <td>67.0</td>\n",
       "      <td>1.0</td>\n",
       "      <td>4.0</td>\n",
       "      <td>120.0</td>\n",
       "      <td>229.0</td>\n",
       "      <td>0.0</td>\n",
       "      <td>2.0</td>\n",
       "      <td>129.0</td>\n",
       "      <td>1.0</td>\n",
       "      <td>2.6</td>\n",
       "      <td>2.0</td>\n",
       "      <td>2.0</td>\n",
       "      <td>7.0</td>\n",
       "      <td>1</td>\n",
       "    </tr>\n",
       "    <tr>\n",
       "      <th>3</th>\n",
       "      <td>37.0</td>\n",
       "      <td>1.0</td>\n",
       "      <td>3.0</td>\n",
       "      <td>130.0</td>\n",
       "      <td>250.0</td>\n",
       "      <td>0.0</td>\n",
       "      <td>0.0</td>\n",
       "      <td>187.0</td>\n",
       "      <td>0.0</td>\n",
       "      <td>3.5</td>\n",
       "      <td>3.0</td>\n",
       "      <td>0.0</td>\n",
       "      <td>3.0</td>\n",
       "      <td>0</td>\n",
       "    </tr>\n",
       "    <tr>\n",
       "      <th>4</th>\n",
       "      <td>41.0</td>\n",
       "      <td>0.0</td>\n",
       "      <td>2.0</td>\n",
       "      <td>130.0</td>\n",
       "      <td>204.0</td>\n",
       "      <td>0.0</td>\n",
       "      <td>2.0</td>\n",
       "      <td>172.0</td>\n",
       "      <td>0.0</td>\n",
       "      <td>1.4</td>\n",
       "      <td>1.0</td>\n",
       "      <td>0.0</td>\n",
       "      <td>3.0</td>\n",
       "      <td>0</td>\n",
       "    </tr>\n",
       "  </tbody>\n",
       "</table>\n",
       "</div>"
      ],
      "text/plain": [
       "    age  gender  chest_pain  resting_bp  cholesterol  fasting_bs  resting_ecg  \\\n",
       "0  63.0     1.0         1.0       145.0        233.0         1.0          2.0   \n",
       "1  67.0     1.0         4.0       160.0        286.0         0.0          2.0   \n",
       "2  67.0     1.0         4.0       120.0        229.0         0.0          2.0   \n",
       "3  37.0     1.0         3.0       130.0        250.0         0.0          0.0   \n",
       "4  41.0     0.0         2.0       130.0        204.0         0.0          2.0   \n",
       "\n",
       "   thalach  exang  oldpeak  slope   ca thal  hd  \n",
       "0    150.0    0.0      2.3    3.0  0.0  6.0   0  \n",
       "1    108.0    1.0      1.5    2.0  3.0  3.0   2  \n",
       "2    129.0    1.0      2.6    2.0  2.0  7.0   1  \n",
       "3    187.0    0.0      3.5    3.0  0.0  3.0   0  \n",
       "4    172.0    0.0      1.4    1.0  0.0  3.0   0  "
      ]
     },
     "execution_count": 22,
     "metadata": {},
     "output_type": "execute_result"
    }
   ],
   "source": [
    "# Changing column numbers to names\n",
    "df.columns = ['age',\n",
    "             'gender',\n",
    "             'chest_pain',\n",
    "             'resting_bp',\n",
    "             'cholesterol',\n",
    "             'fasting_bs',\n",
    "             'resting_ecg',\n",
    "             'thalach',\n",
    "             'exang',\n",
    "             'oldpeak',\n",
    "             'slope',\n",
    "             'ca',\n",
    "             'thal',\n",
    "             'hd']\n",
    "\n",
    "# Retrieves the first 5 rows of the dataframe with the new column names\n",
    "df.head()"
   ]
  },
  {
   "cell_type": "code",
   "execution_count": 23,
   "id": "fa4074f9-5b1e-4b1b-bc27-32bec1b6cb2d",
   "metadata": {},
   "outputs": [
    {
     "data": {
      "text/plain": [
       "age            float64\n",
       "gender         float64\n",
       "chest_pain     float64\n",
       "resting_bp     float64\n",
       "cholesterol    float64\n",
       "fasting_bs     float64\n",
       "resting_ecg    float64\n",
       "thalach        float64\n",
       "exang          float64\n",
       "oldpeak        float64\n",
       "slope          float64\n",
       "ca              object\n",
       "thal            object\n",
       "hd               int64\n",
       "dtype: object"
      ]
     },
     "execution_count": 23,
     "metadata": {},
     "output_type": "execute_result"
    }
   ],
   "source": [
    "# Retrieves the data types of each column in the dataframe with the new column names\n",
    "df.dtypes"
   ]
  },
  {
   "cell_type": "code",
   "execution_count": 24,
   "id": "d7c90fce-b3a6-4fc4-8091-d34f9110c612",
   "metadata": {},
   "outputs": [
    {
     "data": {
      "text/plain": [
       "array(['0.0', '3.0', '2.0', '1.0', '?'], dtype=object)"
      ]
     },
     "execution_count": 24,
     "metadata": {},
     "output_type": "execute_result"
    }
   ],
   "source": [
    "# Retrieving unique values in coumn 'ca'\n",
    "df['ca'].unique()"
   ]
  },
  {
   "cell_type": "code",
   "execution_count": 25,
   "id": "07192a56-ecba-4496-9cf3-20a136f8a5bd",
   "metadata": {},
   "outputs": [
    {
     "data": {
      "text/plain": [
       "array(['6.0', '3.0', '7.0', '?'], dtype=object)"
      ]
     },
     "execution_count": 25,
     "metadata": {},
     "output_type": "execute_result"
    }
   ],
   "source": [
    "# Retrieving unique values in coumn 'thal'\n",
    "df['thal'].unique()"
   ]
  },
  {
   "cell_type": "markdown",
   "id": "6ee92ff4-8221-42fb-bb74-1d3b2d9b8122",
   "metadata": {},
   "source": [
    "<br>\n",
    "\n",
    "### Removing Missing Data\n",
    "\n",
    "***\n",
    "\n",
    "Here we will solve the issue with out missing data as scikit-learn classification trees do not support missing values, so after assessing we will delete these rows of data as there are only 6 missing data values from 6 seperate patients which will not have a big effect on our algorithm and will allows us to just focus on our decision tree."
   ]
  },
  {
   "cell_type": "code",
   "execution_count": 26,
   "id": "bc75bec4-c349-4708-b43a-62992b738e04",
   "metadata": {},
   "outputs": [
    {
     "data": {
      "text/plain": [
       "6"
      ]
     },
     "execution_count": 26,
     "metadata": {},
     "output_type": "execute_result"
    }
   ],
   "source": [
    "# Retrieves the length number of  missing values\n",
    "len(df.loc[(df['ca'] == '?') | (df['thal'] == '?')])"
   ]
  },
  {
   "cell_type": "code",
   "execution_count": 27,
   "id": "af97e73d-fa84-40d9-85cd-a4e27d71df94",
   "metadata": {},
   "outputs": [
    {
     "data": {
      "text/html": [
       "<div>\n",
       "<style scoped>\n",
       "    .dataframe tbody tr th:only-of-type {\n",
       "        vertical-align: middle;\n",
       "    }\n",
       "\n",
       "    .dataframe tbody tr th {\n",
       "        vertical-align: top;\n",
       "    }\n",
       "\n",
       "    .dataframe thead th {\n",
       "        text-align: right;\n",
       "    }\n",
       "</style>\n",
       "<table border=\"1\" class=\"dataframe\">\n",
       "  <thead>\n",
       "    <tr style=\"text-align: right;\">\n",
       "      <th></th>\n",
       "      <th>age</th>\n",
       "      <th>gender</th>\n",
       "      <th>chest_pain</th>\n",
       "      <th>resting_bp</th>\n",
       "      <th>cholesterol</th>\n",
       "      <th>fasting_bs</th>\n",
       "      <th>resting_ecg</th>\n",
       "      <th>thalach</th>\n",
       "      <th>exang</th>\n",
       "      <th>oldpeak</th>\n",
       "      <th>slope</th>\n",
       "      <th>ca</th>\n",
       "      <th>thal</th>\n",
       "      <th>hd</th>\n",
       "    </tr>\n",
       "  </thead>\n",
       "  <tbody>\n",
       "    <tr>\n",
       "      <th>87</th>\n",
       "      <td>53.0</td>\n",
       "      <td>0.0</td>\n",
       "      <td>3.0</td>\n",
       "      <td>128.0</td>\n",
       "      <td>216.0</td>\n",
       "      <td>0.0</td>\n",
       "      <td>2.0</td>\n",
       "      <td>115.0</td>\n",
       "      <td>0.0</td>\n",
       "      <td>0.0</td>\n",
       "      <td>1.0</td>\n",
       "      <td>0.0</td>\n",
       "      <td>?</td>\n",
       "      <td>0</td>\n",
       "    </tr>\n",
       "    <tr>\n",
       "      <th>166</th>\n",
       "      <td>52.0</td>\n",
       "      <td>1.0</td>\n",
       "      <td>3.0</td>\n",
       "      <td>138.0</td>\n",
       "      <td>223.0</td>\n",
       "      <td>0.0</td>\n",
       "      <td>0.0</td>\n",
       "      <td>169.0</td>\n",
       "      <td>0.0</td>\n",
       "      <td>0.0</td>\n",
       "      <td>1.0</td>\n",
       "      <td>?</td>\n",
       "      <td>3.0</td>\n",
       "      <td>0</td>\n",
       "    </tr>\n",
       "    <tr>\n",
       "      <th>192</th>\n",
       "      <td>43.0</td>\n",
       "      <td>1.0</td>\n",
       "      <td>4.0</td>\n",
       "      <td>132.0</td>\n",
       "      <td>247.0</td>\n",
       "      <td>1.0</td>\n",
       "      <td>2.0</td>\n",
       "      <td>143.0</td>\n",
       "      <td>1.0</td>\n",
       "      <td>0.1</td>\n",
       "      <td>2.0</td>\n",
       "      <td>?</td>\n",
       "      <td>7.0</td>\n",
       "      <td>1</td>\n",
       "    </tr>\n",
       "    <tr>\n",
       "      <th>266</th>\n",
       "      <td>52.0</td>\n",
       "      <td>1.0</td>\n",
       "      <td>4.0</td>\n",
       "      <td>128.0</td>\n",
       "      <td>204.0</td>\n",
       "      <td>1.0</td>\n",
       "      <td>0.0</td>\n",
       "      <td>156.0</td>\n",
       "      <td>1.0</td>\n",
       "      <td>1.0</td>\n",
       "      <td>2.0</td>\n",
       "      <td>0.0</td>\n",
       "      <td>?</td>\n",
       "      <td>2</td>\n",
       "    </tr>\n",
       "    <tr>\n",
       "      <th>287</th>\n",
       "      <td>58.0</td>\n",
       "      <td>1.0</td>\n",
       "      <td>2.0</td>\n",
       "      <td>125.0</td>\n",
       "      <td>220.0</td>\n",
       "      <td>0.0</td>\n",
       "      <td>0.0</td>\n",
       "      <td>144.0</td>\n",
       "      <td>0.0</td>\n",
       "      <td>0.4</td>\n",
       "      <td>2.0</td>\n",
       "      <td>?</td>\n",
       "      <td>7.0</td>\n",
       "      <td>0</td>\n",
       "    </tr>\n",
       "    <tr>\n",
       "      <th>302</th>\n",
       "      <td>38.0</td>\n",
       "      <td>1.0</td>\n",
       "      <td>3.0</td>\n",
       "      <td>138.0</td>\n",
       "      <td>175.0</td>\n",
       "      <td>0.0</td>\n",
       "      <td>0.0</td>\n",
       "      <td>173.0</td>\n",
       "      <td>0.0</td>\n",
       "      <td>0.0</td>\n",
       "      <td>1.0</td>\n",
       "      <td>?</td>\n",
       "      <td>3.0</td>\n",
       "      <td>0</td>\n",
       "    </tr>\n",
       "  </tbody>\n",
       "</table>\n",
       "</div>"
      ],
      "text/plain": [
       "      age  gender  chest_pain  resting_bp  cholesterol  fasting_bs  \\\n",
       "87   53.0     0.0         3.0       128.0        216.0         0.0   \n",
       "166  52.0     1.0         3.0       138.0        223.0         0.0   \n",
       "192  43.0     1.0         4.0       132.0        247.0         1.0   \n",
       "266  52.0     1.0         4.0       128.0        204.0         1.0   \n",
       "287  58.0     1.0         2.0       125.0        220.0         0.0   \n",
       "302  38.0     1.0         3.0       138.0        175.0         0.0   \n",
       "\n",
       "     resting_ecg  thalach  exang  oldpeak  slope   ca thal  hd  \n",
       "87           2.0    115.0    0.0      0.0    1.0  0.0    ?   0  \n",
       "166          0.0    169.0    0.0      0.0    1.0    ?  3.0   0  \n",
       "192          2.0    143.0    1.0      0.1    2.0    ?  7.0   1  \n",
       "266          0.0    156.0    1.0      1.0    2.0  0.0    ?   2  \n",
       "287          0.0    144.0    0.0      0.4    2.0    ?  7.0   0  \n",
       "302          0.0    173.0    0.0      0.0    1.0    ?  3.0   0  "
      ]
     },
     "execution_count": 27,
     "metadata": {},
     "output_type": "execute_result"
    }
   ],
   "source": [
    "# Retrieves rows with missing values\n",
    "df.loc[(df['ca'] == '?') | (df['thal'] == '?')]"
   ]
  },
  {
   "cell_type": "code",
   "execution_count": 28,
   "id": "db6ac361-87c9-4e0f-bf2b-64318c87582b",
   "metadata": {},
   "outputs": [
    {
     "data": {
      "text/plain": [
       "303"
      ]
     },
     "execution_count": 28,
     "metadata": {},
     "output_type": "execute_result"
    }
   ],
   "source": [
    "# Retrieves the number of rows in dataset\n",
    "len(df)"
   ]
  },
  {
   "cell_type": "code",
   "execution_count": 29,
   "id": "4f97d62c-b747-4172-84a5-d44ea8b41132",
   "metadata": {},
   "outputs": [],
   "source": [
    "# Selects all rows with missing values and sames them in a new dataframe (df_no_missing)\n",
    "df_no_missing = df.loc[(df['ca'] != '?') & (df['thal'] != '?')]"
   ]
  },
  {
   "cell_type": "code",
   "execution_count": 30,
   "id": "03a84528-eb87-4383-9a29-617f78c501e6",
   "metadata": {},
   "outputs": [
    {
     "data": {
      "text/plain": [
       "297"
      ]
     },
     "execution_count": 30,
     "metadata": {},
     "output_type": "execute_result"
    }
   ],
   "source": [
    "# Retrieves the number of rows in dataset since the 6 missing value have been moved\n",
    "len(df_no_missing)"
   ]
  },
  {
   "cell_type": "code",
   "execution_count": 31,
   "id": "0c7f4b33-5b00-4394-a037-d8166df92c56",
   "metadata": {},
   "outputs": [
    {
     "data": {
      "text/plain": [
       "array(['0.0', '3.0', '2.0', '1.0'], dtype=object)"
      ]
     },
     "execution_count": 31,
     "metadata": {},
     "output_type": "execute_result"
    }
   ],
   "source": [
    "# Retrieving the unique 'ca' values\n",
    "df_no_missing['ca'].unique()"
   ]
  },
  {
   "cell_type": "code",
   "execution_count": 32,
   "id": "9d0cf355-468a-4c69-9926-64ee03891b5d",
   "metadata": {
    "tags": []
   },
   "outputs": [
    {
     "data": {
      "text/plain": [
       "array(['6.0', '3.0', '7.0'], dtype=object)"
      ]
     },
     "execution_count": 32,
     "metadata": {},
     "output_type": "execute_result"
    }
   ],
   "source": [
    "# Retrieving the unique 'thal' values\n",
    "df_no_missing['thal'].unique()"
   ]
  },
  {
   "cell_type": "markdown",
   "id": "d82b990d-65b7-4995-81fd-972a8bccd8d1",
   "metadata": {},
   "source": [
    "<br>\n",
    "\n",
    "### Splitting Data Into Seperate Variables\n",
    "\n",
    "***\n",
    "\n",
    "After we have solved our missing data issue, we can now format the data correctly for decision tree.\n",
    "\n",
    "This requires two seperate steps, the first step is achieved by splitting data into two different parts:\n",
    "\n",
    "- The columns of data we will use to make our tree.\n",
    "- The columns of data we will use to predict."
   ]
  },
  {
   "cell_type": "markdown",
   "id": "7a739e47-8209-4181-90ca-309e607273ce",
   "metadata": {},
   "source": [
    "<br>\n",
    "\n",
    "### Defining X And Y\n",
    "\n",
    "***\n",
    "\n",
    "We will have 2 values for our tree:\n",
    "\n",
    "- <i>X</i> will contain our columns of data needed to make the tree.\n",
    "- <i>Y</i> is will contain our columns of data needed to make a prediction.\n",
    "\n",
    "Here we will remove the rows of our assigned values as we need each row of one of our <i>X</i> value to correspond to the row of our <i>Y</i> value."
   ]
  },
  {
   "cell_type": "code",
   "execution_count": 33,
   "id": "adeb6d71-5211-4296-ad5a-26170a6f2585",
   "metadata": {},
   "outputs": [
    {
     "data": {
      "text/html": [
       "<div>\n",
       "<style scoped>\n",
       "    .dataframe tbody tr th:only-of-type {\n",
       "        vertical-align: middle;\n",
       "    }\n",
       "\n",
       "    .dataframe tbody tr th {\n",
       "        vertical-align: top;\n",
       "    }\n",
       "\n",
       "    .dataframe thead th {\n",
       "        text-align: right;\n",
       "    }\n",
       "</style>\n",
       "<table border=\"1\" class=\"dataframe\">\n",
       "  <thead>\n",
       "    <tr style=\"text-align: right;\">\n",
       "      <th></th>\n",
       "      <th>age</th>\n",
       "      <th>gender</th>\n",
       "      <th>chest_pain</th>\n",
       "      <th>resting_bp</th>\n",
       "      <th>cholesterol</th>\n",
       "      <th>fasting_bs</th>\n",
       "      <th>resting_ecg</th>\n",
       "      <th>thalach</th>\n",
       "      <th>exang</th>\n",
       "      <th>oldpeak</th>\n",
       "      <th>slope</th>\n",
       "      <th>ca</th>\n",
       "      <th>thal</th>\n",
       "    </tr>\n",
       "  </thead>\n",
       "  <tbody>\n",
       "    <tr>\n",
       "      <th>0</th>\n",
       "      <td>63.0</td>\n",
       "      <td>1.0</td>\n",
       "      <td>1.0</td>\n",
       "      <td>145.0</td>\n",
       "      <td>233.0</td>\n",
       "      <td>1.0</td>\n",
       "      <td>2.0</td>\n",
       "      <td>150.0</td>\n",
       "      <td>0.0</td>\n",
       "      <td>2.3</td>\n",
       "      <td>3.0</td>\n",
       "      <td>0.0</td>\n",
       "      <td>6.0</td>\n",
       "    </tr>\n",
       "    <tr>\n",
       "      <th>1</th>\n",
       "      <td>67.0</td>\n",
       "      <td>1.0</td>\n",
       "      <td>4.0</td>\n",
       "      <td>160.0</td>\n",
       "      <td>286.0</td>\n",
       "      <td>0.0</td>\n",
       "      <td>2.0</td>\n",
       "      <td>108.0</td>\n",
       "      <td>1.0</td>\n",
       "      <td>1.5</td>\n",
       "      <td>2.0</td>\n",
       "      <td>3.0</td>\n",
       "      <td>3.0</td>\n",
       "    </tr>\n",
       "    <tr>\n",
       "      <th>2</th>\n",
       "      <td>67.0</td>\n",
       "      <td>1.0</td>\n",
       "      <td>4.0</td>\n",
       "      <td>120.0</td>\n",
       "      <td>229.0</td>\n",
       "      <td>0.0</td>\n",
       "      <td>2.0</td>\n",
       "      <td>129.0</td>\n",
       "      <td>1.0</td>\n",
       "      <td>2.6</td>\n",
       "      <td>2.0</td>\n",
       "      <td>2.0</td>\n",
       "      <td>7.0</td>\n",
       "    </tr>\n",
       "    <tr>\n",
       "      <th>3</th>\n",
       "      <td>37.0</td>\n",
       "      <td>1.0</td>\n",
       "      <td>3.0</td>\n",
       "      <td>130.0</td>\n",
       "      <td>250.0</td>\n",
       "      <td>0.0</td>\n",
       "      <td>0.0</td>\n",
       "      <td>187.0</td>\n",
       "      <td>0.0</td>\n",
       "      <td>3.5</td>\n",
       "      <td>3.0</td>\n",
       "      <td>0.0</td>\n",
       "      <td>3.0</td>\n",
       "    </tr>\n",
       "    <tr>\n",
       "      <th>4</th>\n",
       "      <td>41.0</td>\n",
       "      <td>0.0</td>\n",
       "      <td>2.0</td>\n",
       "      <td>130.0</td>\n",
       "      <td>204.0</td>\n",
       "      <td>0.0</td>\n",
       "      <td>2.0</td>\n",
       "      <td>172.0</td>\n",
       "      <td>0.0</td>\n",
       "      <td>1.4</td>\n",
       "      <td>1.0</td>\n",
       "      <td>0.0</td>\n",
       "      <td>3.0</td>\n",
       "    </tr>\n",
       "  </tbody>\n",
       "</table>\n",
       "</div>"
      ],
      "text/plain": [
       "    age  gender  chest_pain  resting_bp  cholesterol  fasting_bs  resting_ecg  \\\n",
       "0  63.0     1.0         1.0       145.0        233.0         1.0          2.0   \n",
       "1  67.0     1.0         4.0       160.0        286.0         0.0          2.0   \n",
       "2  67.0     1.0         4.0       120.0        229.0         0.0          2.0   \n",
       "3  37.0     1.0         3.0       130.0        250.0         0.0          0.0   \n",
       "4  41.0     0.0         2.0       130.0        204.0         0.0          2.0   \n",
       "\n",
       "   thalach  exang  oldpeak  slope   ca thal  \n",
       "0    150.0    0.0      2.3    3.0  0.0  6.0  \n",
       "1    108.0    1.0      1.5    2.0  3.0  3.0  \n",
       "2    129.0    1.0      2.6    2.0  2.0  7.0  \n",
       "3    187.0    0.0      3.5    3.0  0.0  3.0  \n",
       "4    172.0    0.0      1.4    1.0  0.0  3.0  "
      ]
     },
     "execution_count": 33,
     "metadata": {},
     "output_type": "execute_result"
    }
   ],
   "source": [
    "# Creating a new copy of the columns used to make predictions\n",
    "x = df_no_missing.iloc[:,:-1]\n",
    "\n",
    "# Retrieving first 5 rows of new copy\n",
    "x.head()"
   ]
  },
  {
   "cell_type": "code",
   "execution_count": 34,
   "id": "47fc77ce-28a9-4c10-89aa-76a084d01e76",
   "metadata": {},
   "outputs": [
    {
     "data": {
      "text/plain": [
       "0    0\n",
       "1    2\n",
       "2    1\n",
       "3    0\n",
       "4    0\n",
       "Name: hd, dtype: int64"
      ]
     },
     "execution_count": 34,
     "metadata": {},
     "output_type": "execute_result"
    }
   ],
   "source": [
    "# Craeting a new copy of the columns data we want to predict\n",
    "y = df_no_missing['hd'].copy()\n",
    "\n",
    "# Retrieving first 5 rows of new copy\n",
    "y.head()"
   ]
  },
  {
   "cell_type": "markdown",
   "id": "1d416b99-e5ba-4b16-a99c-4f4a6b540bba",
   "metadata": {},
   "source": [
    "<br>\n",
    "\n",
    "### One Hot Encoding\n",
    "\n",
    "***\n",
    "\n",
    "Since we have split the dataframe into two variables, <i>X</i> and <i>Y</i>, <i>X</i> containing the data used to make our decision tree and <i>Y</i> containing data for our prediction, we now need to take a deeper look into our <i>X</i> variables.\n",
    "<br>\n",
    "We need to make sure all our columns contain acceptable data values as decision trees do not support categorical data meaning we need to convert any categorical data to columns of binary values which is known as 'One Hot Encoding'.\n",
    "\n",
    "To achieve this we can take two different approaches:\n",
    "\n",
    "- ColumnTransformer() from the scikit-learn library.\n",
    "- get_dummies() from the Pandas library.\n",
    "\n",
    "We will be taking the get_dummies() approach."
   ]
  },
  {
   "cell_type": "code",
   "execution_count": 35,
   "id": "9eaf7adc-a441-4abc-906c-3b86790cf2db",
   "metadata": {},
   "outputs": [
    {
     "data": {
      "text/plain": [
       "age            float64\n",
       "gender         float64\n",
       "chest_pain     float64\n",
       "resting_bp     float64\n",
       "cholesterol    float64\n",
       "fasting_bs     float64\n",
       "resting_ecg    float64\n",
       "thalach        float64\n",
       "exang          float64\n",
       "oldpeak        float64\n",
       "slope          float64\n",
       "ca              object\n",
       "thal            object\n",
       "dtype: object"
      ]
     },
     "execution_count": 35,
     "metadata": {},
     "output_type": "execute_result"
    }
   ],
   "source": [
    "# Retrieves the data types of x\n",
    "x.dtypes"
   ]
  },
  {
   "cell_type": "code",
   "execution_count": 36,
   "id": "d9e145fc-6b6b-4be1-b1d6-08c972eac0b4",
   "metadata": {},
   "outputs": [
    {
     "data": {
      "text/plain": [
       "array([1., 4., 3., 2.])"
      ]
     },
     "execution_count": 36,
     "metadata": {},
     "output_type": "execute_result"
    }
   ],
   "source": [
    "# Retrieving the unique 'chest_pain' values\n",
    "x['chest_pain'].unique()"
   ]
  },
  {
   "cell_type": "code",
   "execution_count": 37,
   "id": "b187a8d9-a0f5-4fc9-b53f-b5bdb88f52d7",
   "metadata": {},
   "outputs": [
    {
     "data": {
      "text/html": [
       "<div>\n",
       "<style scoped>\n",
       "    .dataframe tbody tr th:only-of-type {\n",
       "        vertical-align: middle;\n",
       "    }\n",
       "\n",
       "    .dataframe tbody tr th {\n",
       "        vertical-align: top;\n",
       "    }\n",
       "\n",
       "    .dataframe thead th {\n",
       "        text-align: right;\n",
       "    }\n",
       "</style>\n",
       "<table border=\"1\" class=\"dataframe\">\n",
       "  <thead>\n",
       "    <tr style=\"text-align: right;\">\n",
       "      <th></th>\n",
       "      <th>age</th>\n",
       "      <th>gender</th>\n",
       "      <th>resting_bp</th>\n",
       "      <th>cholesterol</th>\n",
       "      <th>fasting_bs</th>\n",
       "      <th>resting_ecg</th>\n",
       "      <th>thalach</th>\n",
       "      <th>exang</th>\n",
       "      <th>oldpeak</th>\n",
       "      <th>slope</th>\n",
       "      <th>ca</th>\n",
       "      <th>thal</th>\n",
       "      <th>chest_pain_1.0</th>\n",
       "      <th>chest_pain_2.0</th>\n",
       "      <th>chest_pain_3.0</th>\n",
       "      <th>chest_pain_4.0</th>\n",
       "    </tr>\n",
       "  </thead>\n",
       "  <tbody>\n",
       "    <tr>\n",
       "      <th>0</th>\n",
       "      <td>63.0</td>\n",
       "      <td>1.0</td>\n",
       "      <td>145.0</td>\n",
       "      <td>233.0</td>\n",
       "      <td>1.0</td>\n",
       "      <td>2.0</td>\n",
       "      <td>150.0</td>\n",
       "      <td>0.0</td>\n",
       "      <td>2.3</td>\n",
       "      <td>3.0</td>\n",
       "      <td>0.0</td>\n",
       "      <td>6.0</td>\n",
       "      <td>1</td>\n",
       "      <td>0</td>\n",
       "      <td>0</td>\n",
       "      <td>0</td>\n",
       "    </tr>\n",
       "    <tr>\n",
       "      <th>1</th>\n",
       "      <td>67.0</td>\n",
       "      <td>1.0</td>\n",
       "      <td>160.0</td>\n",
       "      <td>286.0</td>\n",
       "      <td>0.0</td>\n",
       "      <td>2.0</td>\n",
       "      <td>108.0</td>\n",
       "      <td>1.0</td>\n",
       "      <td>1.5</td>\n",
       "      <td>2.0</td>\n",
       "      <td>3.0</td>\n",
       "      <td>3.0</td>\n",
       "      <td>0</td>\n",
       "      <td>0</td>\n",
       "      <td>0</td>\n",
       "      <td>1</td>\n",
       "    </tr>\n",
       "    <tr>\n",
       "      <th>2</th>\n",
       "      <td>67.0</td>\n",
       "      <td>1.0</td>\n",
       "      <td>120.0</td>\n",
       "      <td>229.0</td>\n",
       "      <td>0.0</td>\n",
       "      <td>2.0</td>\n",
       "      <td>129.0</td>\n",
       "      <td>1.0</td>\n",
       "      <td>2.6</td>\n",
       "      <td>2.0</td>\n",
       "      <td>2.0</td>\n",
       "      <td>7.0</td>\n",
       "      <td>0</td>\n",
       "      <td>0</td>\n",
       "      <td>0</td>\n",
       "      <td>1</td>\n",
       "    </tr>\n",
       "    <tr>\n",
       "      <th>3</th>\n",
       "      <td>37.0</td>\n",
       "      <td>1.0</td>\n",
       "      <td>130.0</td>\n",
       "      <td>250.0</td>\n",
       "      <td>0.0</td>\n",
       "      <td>0.0</td>\n",
       "      <td>187.0</td>\n",
       "      <td>0.0</td>\n",
       "      <td>3.5</td>\n",
       "      <td>3.0</td>\n",
       "      <td>0.0</td>\n",
       "      <td>3.0</td>\n",
       "      <td>0</td>\n",
       "      <td>0</td>\n",
       "      <td>1</td>\n",
       "      <td>0</td>\n",
       "    </tr>\n",
       "    <tr>\n",
       "      <th>4</th>\n",
       "      <td>41.0</td>\n",
       "      <td>0.0</td>\n",
       "      <td>130.0</td>\n",
       "      <td>204.0</td>\n",
       "      <td>0.0</td>\n",
       "      <td>2.0</td>\n",
       "      <td>172.0</td>\n",
       "      <td>0.0</td>\n",
       "      <td>1.4</td>\n",
       "      <td>1.0</td>\n",
       "      <td>0.0</td>\n",
       "      <td>3.0</td>\n",
       "      <td>0</td>\n",
       "      <td>1</td>\n",
       "      <td>0</td>\n",
       "      <td>0</td>\n",
       "    </tr>\n",
       "  </tbody>\n",
       "</table>\n",
       "</div>"
      ],
      "text/plain": [
       "    age  gender  resting_bp  cholesterol  fasting_bs  resting_ecg  thalach  \\\n",
       "0  63.0     1.0       145.0        233.0         1.0          2.0    150.0   \n",
       "1  67.0     1.0       160.0        286.0         0.0          2.0    108.0   \n",
       "2  67.0     1.0       120.0        229.0         0.0          2.0    129.0   \n",
       "3  37.0     1.0       130.0        250.0         0.0          0.0    187.0   \n",
       "4  41.0     0.0       130.0        204.0         0.0          2.0    172.0   \n",
       "\n",
       "   exang  oldpeak  slope   ca thal  chest_pain_1.0  chest_pain_2.0  \\\n",
       "0    0.0      2.3    3.0  0.0  6.0               1               0   \n",
       "1    1.0      1.5    2.0  3.0  3.0               0               0   \n",
       "2    1.0      2.6    2.0  2.0  7.0               0               0   \n",
       "3    0.0      3.5    3.0  0.0  3.0               0               0   \n",
       "4    0.0      1.4    1.0  0.0  3.0               0               1   \n",
       "\n",
       "   chest_pain_3.0  chest_pain_4.0  \n",
       "0               0               0  \n",
       "1               0               1  \n",
       "2               0               1  \n",
       "3               1               0  \n",
       "4               0               0  "
      ]
     },
     "execution_count": 37,
     "metadata": {},
     "output_type": "execute_result"
    }
   ],
   "source": [
    "# Converting 'chest_pain' into 0's and 1's with One Hot Encoding and retrieving first 5 rows after datframe is encoded\n",
    "pd.get_dummies(x, columns = ['chest_pain']).head()"
   ]
  },
  {
   "cell_type": "code",
   "execution_count": 38,
   "id": "60684ad6-bfa4-40ac-852d-939d1adcc222",
   "metadata": {},
   "outputs": [
    {
     "data": {
      "text/html": [
       "<div>\n",
       "<style scoped>\n",
       "    .dataframe tbody tr th:only-of-type {\n",
       "        vertical-align: middle;\n",
       "    }\n",
       "\n",
       "    .dataframe tbody tr th {\n",
       "        vertical-align: top;\n",
       "    }\n",
       "\n",
       "    .dataframe thead th {\n",
       "        text-align: right;\n",
       "    }\n",
       "</style>\n",
       "<table border=\"1\" class=\"dataframe\">\n",
       "  <thead>\n",
       "    <tr style=\"text-align: right;\">\n",
       "      <th></th>\n",
       "      <th>age</th>\n",
       "      <th>gender</th>\n",
       "      <th>resting_bp</th>\n",
       "      <th>cholesterol</th>\n",
       "      <th>fasting_bs</th>\n",
       "      <th>thalach</th>\n",
       "      <th>exang</th>\n",
       "      <th>oldpeak</th>\n",
       "      <th>ca</th>\n",
       "      <th>chest_pain_1.0</th>\n",
       "      <th>...</th>\n",
       "      <th>chest_pain_4.0</th>\n",
       "      <th>resting_ecg_0.0</th>\n",
       "      <th>resting_ecg_1.0</th>\n",
       "      <th>resting_ecg_2.0</th>\n",
       "      <th>slope_1.0</th>\n",
       "      <th>slope_2.0</th>\n",
       "      <th>slope_3.0</th>\n",
       "      <th>thal_3.0</th>\n",
       "      <th>thal_6.0</th>\n",
       "      <th>thal_7.0</th>\n",
       "    </tr>\n",
       "  </thead>\n",
       "  <tbody>\n",
       "    <tr>\n",
       "      <th>0</th>\n",
       "      <td>63.0</td>\n",
       "      <td>1.0</td>\n",
       "      <td>145.0</td>\n",
       "      <td>233.0</td>\n",
       "      <td>1.0</td>\n",
       "      <td>150.0</td>\n",
       "      <td>0.0</td>\n",
       "      <td>2.3</td>\n",
       "      <td>0.0</td>\n",
       "      <td>1</td>\n",
       "      <td>...</td>\n",
       "      <td>0</td>\n",
       "      <td>0</td>\n",
       "      <td>0</td>\n",
       "      <td>1</td>\n",
       "      <td>0</td>\n",
       "      <td>0</td>\n",
       "      <td>1</td>\n",
       "      <td>0</td>\n",
       "      <td>1</td>\n",
       "      <td>0</td>\n",
       "    </tr>\n",
       "    <tr>\n",
       "      <th>1</th>\n",
       "      <td>67.0</td>\n",
       "      <td>1.0</td>\n",
       "      <td>160.0</td>\n",
       "      <td>286.0</td>\n",
       "      <td>0.0</td>\n",
       "      <td>108.0</td>\n",
       "      <td>1.0</td>\n",
       "      <td>1.5</td>\n",
       "      <td>3.0</td>\n",
       "      <td>0</td>\n",
       "      <td>...</td>\n",
       "      <td>1</td>\n",
       "      <td>0</td>\n",
       "      <td>0</td>\n",
       "      <td>1</td>\n",
       "      <td>0</td>\n",
       "      <td>1</td>\n",
       "      <td>0</td>\n",
       "      <td>1</td>\n",
       "      <td>0</td>\n",
       "      <td>0</td>\n",
       "    </tr>\n",
       "    <tr>\n",
       "      <th>2</th>\n",
       "      <td>67.0</td>\n",
       "      <td>1.0</td>\n",
       "      <td>120.0</td>\n",
       "      <td>229.0</td>\n",
       "      <td>0.0</td>\n",
       "      <td>129.0</td>\n",
       "      <td>1.0</td>\n",
       "      <td>2.6</td>\n",
       "      <td>2.0</td>\n",
       "      <td>0</td>\n",
       "      <td>...</td>\n",
       "      <td>1</td>\n",
       "      <td>0</td>\n",
       "      <td>0</td>\n",
       "      <td>1</td>\n",
       "      <td>0</td>\n",
       "      <td>1</td>\n",
       "      <td>0</td>\n",
       "      <td>0</td>\n",
       "      <td>0</td>\n",
       "      <td>1</td>\n",
       "    </tr>\n",
       "    <tr>\n",
       "      <th>3</th>\n",
       "      <td>37.0</td>\n",
       "      <td>1.0</td>\n",
       "      <td>130.0</td>\n",
       "      <td>250.0</td>\n",
       "      <td>0.0</td>\n",
       "      <td>187.0</td>\n",
       "      <td>0.0</td>\n",
       "      <td>3.5</td>\n",
       "      <td>0.0</td>\n",
       "      <td>0</td>\n",
       "      <td>...</td>\n",
       "      <td>0</td>\n",
       "      <td>1</td>\n",
       "      <td>0</td>\n",
       "      <td>0</td>\n",
       "      <td>0</td>\n",
       "      <td>0</td>\n",
       "      <td>1</td>\n",
       "      <td>1</td>\n",
       "      <td>0</td>\n",
       "      <td>0</td>\n",
       "    </tr>\n",
       "    <tr>\n",
       "      <th>4</th>\n",
       "      <td>41.0</td>\n",
       "      <td>0.0</td>\n",
       "      <td>130.0</td>\n",
       "      <td>204.0</td>\n",
       "      <td>0.0</td>\n",
       "      <td>172.0</td>\n",
       "      <td>0.0</td>\n",
       "      <td>1.4</td>\n",
       "      <td>0.0</td>\n",
       "      <td>0</td>\n",
       "      <td>...</td>\n",
       "      <td>0</td>\n",
       "      <td>0</td>\n",
       "      <td>0</td>\n",
       "      <td>1</td>\n",
       "      <td>1</td>\n",
       "      <td>0</td>\n",
       "      <td>0</td>\n",
       "      <td>1</td>\n",
       "      <td>0</td>\n",
       "      <td>0</td>\n",
       "    </tr>\n",
       "  </tbody>\n",
       "</table>\n",
       "<p>5 rows × 22 columns</p>\n",
       "</div>"
      ],
      "text/plain": [
       "    age  gender  resting_bp  cholesterol  fasting_bs  thalach  exang  oldpeak  \\\n",
       "0  63.0     1.0       145.0        233.0         1.0    150.0    0.0      2.3   \n",
       "1  67.0     1.0       160.0        286.0         0.0    108.0    1.0      1.5   \n",
       "2  67.0     1.0       120.0        229.0         0.0    129.0    1.0      2.6   \n",
       "3  37.0     1.0       130.0        250.0         0.0    187.0    0.0      3.5   \n",
       "4  41.0     0.0       130.0        204.0         0.0    172.0    0.0      1.4   \n",
       "\n",
       "    ca  chest_pain_1.0  ...  chest_pain_4.0  resting_ecg_0.0  resting_ecg_1.0  \\\n",
       "0  0.0               1  ...               0                0                0   \n",
       "1  3.0               0  ...               1                0                0   \n",
       "2  2.0               0  ...               1                0                0   \n",
       "3  0.0               0  ...               0                1                0   \n",
       "4  0.0               0  ...               0                0                0   \n",
       "\n",
       "   resting_ecg_2.0  slope_1.0  slope_2.0  slope_3.0  thal_3.0  thal_6.0  \\\n",
       "0                1          0          0          1         0         1   \n",
       "1                1          0          1          0         1         0   \n",
       "2                1          0          1          0         0         0   \n",
       "3                0          0          0          1         1         0   \n",
       "4                1          1          0          0         1         0   \n",
       "\n",
       "   thal_7.0  \n",
       "0         0  \n",
       "1         0  \n",
       "2         1  \n",
       "3         0  \n",
       "4         0  \n",
       "\n",
       "[5 rows x 22 columns]"
      ]
     },
     "execution_count": 38,
     "metadata": {},
     "output_type": "execute_result"
    }
   ],
   "source": [
    "# Converting 'chest_pain', 'resting_ecg', 'slope' and 'thal' into 0's and 1's with One Hot Encoding\n",
    "x_encoding = pd.get_dummies(x, columns = ['chest_pain', 'resting_ecg', 'slope', 'thal'])\n",
    "\n",
    "# Retrieving first 5 rows after datframe is encoded\n",
    "x_encoding.head()"
   ]
  },
  {
   "cell_type": "code",
   "execution_count": 39,
   "id": "ea210edd-8c3e-4a00-a6bd-1e3b6725df75",
   "metadata": {},
   "outputs": [
    {
     "data": {
      "text/plain": [
       "array([0, 2, 1, 3, 4], dtype=int64)"
      ]
     },
     "execution_count": 39,
     "metadata": {},
     "output_type": "execute_result"
    }
   ],
   "source": [
    "# Verifying y contains only 0's and 1's\n",
    "y.unique()"
   ]
  },
  {
   "cell_type": "code",
   "execution_count": 40,
   "id": "0b99a72b-395f-445c-831f-36eaf5999511",
   "metadata": {},
   "outputs": [
    {
     "data": {
      "text/plain": [
       "array([0, 1], dtype=int64)"
      ]
     },
     "execution_count": 40,
     "metadata": {},
     "output_type": "execute_result"
    }
   ],
   "source": [
    "# Retrieving the index for each non-zero value in y\n",
    "y_not_zero_index = y > 0\n",
    "\n",
    "# Setting non-zero value in y to 1\n",
    "y[y_not_zero_index] = 1\n",
    "\n",
    "# Verifying y contains only 0's and 1's\n",
    "y.unique()"
   ]
  },
  {
   "cell_type": "markdown",
   "id": "fa4fdc8e-cc93-4774-86fd-d3e0e251f6ed",
   "metadata": {},
   "source": [
    "<br>\n",
    "\n",
    "### Splitting Dataset\n",
    "\n",
    "***\n",
    "\n",
    "The training set is a initial set of data in the class and the test set is a another set of data used to test a machine learning program after it has been trained.\n",
    "<br>\n",
    "The data is split using our 'One Hot Encoding' process."
   ]
  },
  {
   "cell_type": "markdown",
   "id": "bb5baa22-f70a-4563-9b2e-91585380967e",
   "metadata": {},
   "source": [
    "<br>\n",
    "\n",
    "### Defining The Model\n",
    "\n",
    "***\n",
    "\n",
    "We will be using the Decision Tree Classification as our classifier."
   ]
  },
  {
   "cell_type": "markdown",
   "id": "dbf819dd-ac7f-4a53-8d10-aaa722adc293",
   "metadata": {},
   "source": [
    "<br>\n",
    "\n",
    "### Training The Model\n",
    "\n",
    "***\n",
    "\n",
    "Here we will train the classifier by calling the fit() function."
   ]
  },
  {
   "cell_type": "code",
   "execution_count": 41,
   "id": "5492ea72-805a-4548-a3b7-14fbf4a9b6a4",
   "metadata": {
    "tags": []
   },
   "outputs": [],
   "source": [
    "# Splitting data into train and test subsets\n",
    "x_train, x_test, y_train, y_test = train_test_split(\n",
    "    x_encoding, y, random_state=42\n",
    ")\n",
    "\n",
    "# Creating a decision tree classifier\n",
    "clf = DecisionTreeClassifier(random_state=42)\n",
    "\n",
    "# Fitting on the train samples\n",
    "clf = clf.fit(x_train, y_train)"
   ]
  },
  {
   "cell_type": "markdown",
   "id": "b9fc93e5-a532-4a1d-a06c-02e1afcb9dea",
   "metadata": {},
   "source": [
    "<br>\n",
    "\n",
    "### Displaying The Initial Tree\n",
    "\n",
    "***\n",
    "\n",
    "Since we have split the data into the 'Training' and 'Test' sets and have formatted our data correctly we can now build our inital tree. \n",
    "<br>\n",
    "If the the tree is displayed we can now see how our 'Testing' set runs by displaying it in a Confusion Matrix."
   ]
  },
  {
   "cell_type": "code",
   "execution_count": 42,
   "id": "a87de0ee-81c3-4a5a-aa41-45a6871db92b",
   "metadata": {},
   "outputs": [
    {
     "data": {
      "image/png": "[encoded data removed]",
      "text/plain": [
       "<Figure size 1800x864 with 1 Axes>"
      ]
     },
     "metadata": {
      "needs_background": "light"
     },
     "output_type": "display_data"
    }
   ],
   "source": [
    "# Plotting data in a decision tree\n",
    "plt.figure(figsize = (25, 12))\n",
    "plot_tree(\n",
    "    clf, filled=True, rounded=True, class_names=[\"HD: NEGATIVE\", \"HD: POSITIVE\"], feature_names=x_encoding.columns\n",
    ");"
   ]
  },
  {
   "cell_type": "code",
   "execution_count": 43,
   "id": "ea9232a5-56bb-4806-90ac-084e23862039",
   "metadata": {},
   "outputs": [
    {
     "data": {
      "image/png": "[encoded data removed]",
      "text/plain": [
       "<Figure size 432x288 with 2 Axes>"
      ]
     },
     "metadata": {
      "needs_background": "light"
     },
     "output_type": "display_data"
    }
   ],
   "source": [
    "# Plotting the confusiom matrix of of positive and negative patients\n",
    "ConfusionMatrixDisplay.from_estimator(\n",
    "    clf, x_test, y_test, display_labels=[\"HD: NEGATIVE\", \"HD: POSITIVE\"])\n",
    "\n",
    "plt.show()"
   ]
  },
  {
   "cell_type": "markdown",
   "id": "9b8cc3a2-591e-49a0-9cb2-2b69ebae4fa7",
   "metadata": {},
   "source": [
    "<br>\n",
    "\n",
    "### Pruning Data\n",
    "\n",
    "***\n",
    "\n",
    "As we can see above, we have an overfitting issue with our decision tree, this is a common issue when dsisplaying tree for our 'Training' dataset.\n",
    "<br>\n",
    "To solve this issue we need to prune the data, 'Pruning' means reducing the size of decision trees by removing parts of the tree that do not provide power to classify instances."
   ]
  },
  {
   "cell_type": "markdown",
   "id": "113a62f2-db4b-4138-ab78-a7f4add6c95b",
   "metadata": {},
   "source": [
    "<br>\n",
    "\n",
    "### Visualizing Alpha\n",
    "\n",
    "***\n",
    "\n",
    "As we mentioned before, pruning a tree is a simple as we will be using an approach known as 'Cost Complexity Pruning'.\n",
    "<br>\n",
    "This approach includes finding the correct value for our pruning paramater which will be known as <b>alphas</b>, this parameter will be used to control how much pruning occurs.\n",
    "<br>\n",
    "Here we will find the optimal value for <b>alphas</b> by plotting the accuracy (in a graph) of the tree as a function of different values which we wil ldo for both Training and Test datasets.\n",
    "<br>\n",
    "We will also extract the different values of <b>alphas</b> available and build a tree for each value."
   ]
  },
  {
   "cell_type": "code",
   "execution_count": 44,
   "id": "ca3ae06a-961e-4f14-a9e9-684e8e81c704",
   "metadata": {},
   "outputs": [
    {
     "data": {
      "text/plain": [
       "array([0.        , 0.00295295, 0.003861  , 0.00405405, 0.004095  ,\n",
       "       0.00429358, 0.00514801, 0.00541298, 0.00578761, 0.00600601,\n",
       "       0.00600601, 0.00600601, 0.00667591, 0.00675676, 0.00757375,\n",
       "       0.00811505, 0.00868726, 0.00889851, 0.01038181, 0.0105777 ,\n",
       "       0.01422475, 0.01604051, 0.01642461, 0.02103075, 0.03680006,\n",
       "       0.03934523])"
      ]
     },
     "execution_count": 44,
     "metadata": {},
     "output_type": "execute_result"
    }
   ],
   "source": [
    "# Determining values for alpha\n",
    "path = clf.cost_complexity_pruning_path(x_train, y_train)\n",
    "\n",
    "# Extracting different values for alpha\n",
    "alphas = path.ccp_alphas\n",
    "\n",
    "# Exlucding th max value for alpha\n",
    "alphas = alphas[:-1]\n",
    "\n",
    "# Retrieving data in alpha\n",
    "alphas"
   ]
  },
  {
   "cell_type": "code",
   "execution_count": 45,
   "id": "01b9d9da-9f61-484b-8d35-870a8eefc48e",
   "metadata": {},
   "outputs": [
    {
     "data": {
      "image/png": "[encoded data removed]",
      "text/plain": [
       "<Figure size 1008x504 with 1 Axes>"
      ]
     },
     "metadata": {},
     "output_type": "display_data"
    }
   ],
   "source": [
    "# Creating an array to put in decision tree\n",
    "clf_dt = []\n",
    "\n",
    "# Creating one dicison tree per value to store in the array\n",
    "for i in alphas:\n",
    "    clf = DecisionTreeClassifier(random_state=0, ccp_alpha=i)\n",
    "    clf.fit(x_train, y_train)\n",
    "    clf_dt.append(clf)\n",
    "    \n",
    "# Using training and test datasets as a function of alpha\n",
    "accuracy_train = [clf.score(x_train, y_train) for clf in clf_dt]\n",
    "accuracy_test = [clf.score(x_test, y_test) for clf in clf_dt]\n",
    "\n",
    "# Plotting the accuracy of the training and test datasets\n",
    "sn.set()\n",
    "plt.figure(figsize = (14, 7))\n",
    "ax = sn.lineplot(y=accuracy_train, x=alphas, label=\"Train Accuracy\")\n",
    "ax = sn.lineplot(y=accuracy_test, x=alphas, label=\"Test Accuracy\")\n",
    "ax.set_title(\"Accuracy vs Alpha for training and test sets\")\n",
    "ax.set(xlabel=\"Aplha\", ylabel = \"Accuracy\")\n",
    "plt.xticks(ticks=np.arange(0.00,0.06,0.01))\n",
    "plt.show()"
   ]
  },
  {
   "cell_type": "markdown",
   "id": "0d5de232-e87f-4f14-ae6d-2fdbf4f4d3ed",
   "metadata": {},
   "source": [
    "<br>\n",
    "\n",
    "### Cross Validation\n",
    "\n",
    "***\n",
    "\n",
    "Here we will plot both the 'Training' and 'Test' datasets results with different accuracies, this is done using the cross_val_score() function to generate different 'Training' and 'Test' datasets and plotting the tree.\n",
    "<br>\n",
    "After this is complete, we will use 'Cross Validation' to find the optimal value of <i>alphas</i> which we will later store and build a more compact tree."
   ]
  },
  {
   "cell_type": "code",
   "execution_count": 46,
   "id": "b6f4358d-65d5-4f3b-8056-555417baaf9b",
   "metadata": {},
   "outputs": [
    {
     "data": {
      "text/plain": [
       "<AxesSubplot:xlabel='tree'>"
      ]
     },
     "execution_count": 46,
     "metadata": {},
     "output_type": "execute_result"
    },
    {
     "data": {
      "image/png": "[encoded data removed]",
      "text/plain": [
       "<Figure size 432x288 with 1 Axes>"
      ]
     },
     "metadata": {},
     "output_type": "display_data"
    }
   ],
   "source": [
    "# Creating data with ccp_alpha tree\n",
    "clf = DecisionTreeClassifier(random_state=42, ccp_alpha=0.016)\n",
    "\n",
    "# Using cross validation creating 5 training and testing datasets needed to train and test data\n",
    "scores  = cross_val_score(clf, x_train, y_train, cv=5)\n",
    "df = pd.DataFrame(data={'tree': range(5), 'accuracy': scores})\n",
    "\n",
    "# Plotting that data after cross validation\n",
    "df.plot(x='tree', y='accuracy', marker='o', linestyle='--')"
   ]
  },
  {
   "cell_type": "code",
   "execution_count": 47,
   "id": "67aaf256-1f7b-4762-ba73-b3d2b4e83564",
   "metadata": {},
   "outputs": [
    {
     "data": {
      "text/plain": [
       "<AxesSubplot:xlabel='alpha'>"
      ]
     },
     "execution_count": 47,
     "metadata": {},
     "output_type": "execute_result"
    },
    {
     "data": {
      "image/png": "[encoded data removed]",
      "text/plain": [
       "<Figure size 432x288 with 1 Axes>"
      ]
     },
     "metadata": {},
     "output_type": "display_data"
    }
   ],
   "source": [
    "# Creating an array to store results of each fold during cross validation\n",
    "alpha_loop = []\n",
    "\n",
    "# Running cross validation for each candidate value and storing mean accuracy and standard deviation of the scores\n",
    "for i in alphas:\n",
    "    clf = DecisionTreeClassifier(random_state=0, ccp_alpha=i)\n",
    "    scores = cross_val_score(clf, x_train, y_train, cv=5)\n",
    "    alpha_loop.append([i, np.mean(scores), np.std(scores)])\n",
    "\n",
    "# Ploting graph of mean accuracy and standard deviation of scores for each candidate value\n",
    "alpha_results = pd.DataFrame(alpha_loop, columns=['alpha', 'accuracy', 'std'])\n",
    "alpha_results.plot(x='alpha', y='accuracy', yerr='std', marker='o', linestyle='--')"
   ]
  },
  {
   "cell_type": "code",
   "execution_count": 48,
   "id": "3dfa7def-b3f7-4053-87f3-f66c9eb6856e",
   "metadata": {},
   "outputs": [
    {
     "data": {
      "text/html": [
       "<div>\n",
       "<style scoped>\n",
       "    .dataframe tbody tr th:only-of-type {\n",
       "        vertical-align: middle;\n",
       "    }\n",
       "\n",
       "    .dataframe tbody tr th {\n",
       "        vertical-align: top;\n",
       "    }\n",
       "\n",
       "    .dataframe thead th {\n",
       "        text-align: right;\n",
       "    }\n",
       "</style>\n",
       "<table border=\"1\" class=\"dataframe\">\n",
       "  <thead>\n",
       "    <tr style=\"text-align: right;\">\n",
       "      <th></th>\n",
       "      <th>alpha</th>\n",
       "      <th>accuracy</th>\n",
       "      <th>std</th>\n",
       "    </tr>\n",
       "  </thead>\n",
       "  <tbody>\n",
       "    <tr>\n",
       "      <th>20</th>\n",
       "      <td>0.014225</td>\n",
       "      <td>0.747778</td>\n",
       "      <td>0.091395</td>\n",
       "    </tr>\n",
       "  </tbody>\n",
       "</table>\n",
       "</div>"
      ],
      "text/plain": [
       "       alpha  accuracy       std\n",
       "20  0.014225  0.747778  0.091395"
      ]
     },
     "execution_count": 48,
     "metadata": {},
     "output_type": "execute_result"
    }
   ],
   "source": [
    "# Setting ccp_alpha closer to 0.014\n",
    "alpha_results[(alpha_results['alpha'] > 0.014) & (alpha_results['alpha'] < 0.015)]"
   ]
  },
  {
   "cell_type": "code",
   "execution_count": 49,
   "id": "0e5a0fd9-73f5-46c4-ba06-1bf4f283e3b4",
   "metadata": {},
   "outputs": [
    {
     "data": {
      "text/plain": [
       "20    0.014225\n",
       "Name: alpha, dtype: float64"
      ]
     },
     "execution_count": 49,
     "metadata": {},
     "output_type": "execute_result"
    }
   ],
   "source": [
    "# Stroing ideal value for alpha\n",
    "ideal_alpha = alpha_results[(alpha_results['alpha'] > 0.014) & (alpha_results['alpha'] < 0.015)]['alpha']\n",
    "ideal_alpha"
   ]
  },
  {
   "cell_type": "code",
   "execution_count": 50,
   "id": "36913be5-2596-438c-b090-b38e5e2cdb80",
   "metadata": {},
   "outputs": [
    {
     "data": {
      "text/plain": [
       "0.014224751066856332"
      ]
     },
     "execution_count": 50,
     "metadata": {},
     "output_type": "execute_result"
    }
   ],
   "source": [
    "# Converting ideal value from series to a float value\n",
    "ideal_alpha = float(ideal_alpha)\n",
    "ideal_alpha"
   ]
  },
  {
   "cell_type": "markdown",
   "id": "f3865782-a0e8-42ef-a53e-f026795aa57f",
   "metadata": {},
   "source": [
    "<br>\n",
    "\n",
    "### Displaying The Final Tree\n",
    "\n",
    "***\n",
    "\n",
    "After finding the ideal value for 'alpha', we can now build our new pruned tree, which is done by setting ccp_alpha=ideal_alpha.\n",
    "\n",
    "When our tree is displayed we see the leaves are similar to nodes and are colored based on certain details such as:\n",
    "\n",
    "- Blue indicates Heart Disease.\n",
    "- Orange indicates No Heart Disease.\n",
    "- Lighter shade indicates a higher gini score.\n",
    "- Darker shade indicates a lower gini score.\n",
    "\n",
    "It also shows us how scewered the leaves are towards one class."
   ]
  },
  {
   "cell_type": "code",
   "execution_count": 51,
   "id": "eddbf059-7e49-45ad-9a1f-eaf2e2ad5c6b",
   "metadata": {},
   "outputs": [],
   "source": [
    "# Building a new dicision tree , using optimal value for alpha\n",
    "# Otherwise known as pruning the tree\n",
    "prune = DecisionTreeClassifier(random_state=0, ccp_alpha=ideal_alpha)\n",
    "prune = prune.fit(x_train, y_train)"
   ]
  },
  {
   "cell_type": "code",
   "execution_count": 52,
   "id": "de1e7a5d-563c-42f8-9d73-bfc751d10298",
   "metadata": {},
   "outputs": [
    {
     "data": {
      "image/png": "[encoded data removed]",
      "text/plain": [
       "<Figure size 432x288 with 2 Axes>"
      ]
     },
     "metadata": {},
     "output_type": "display_data"
    }
   ],
   "source": [
    "# Plotting confusion matrix in a pruned tree\n",
    "ConfusionMatrixDisplay.from_estimator(\n",
    "    prune, x_test, y_test, display_labels=[\"HD: NEGATIVE\", \"HD: POSITIVE\"])\n",
    "\n",
    "plt.show()"
   ]
  },
  {
   "cell_type": "code",
   "execution_count": 53,
   "id": "a80de211-5599-4183-b998-83eda00a0aee",
   "metadata": {},
   "outputs": [
    {
     "data": {
      "image/png": "[encoded data removed]",
      "text/plain": [
       "<Figure size 1800x864 with 1 Axes>"
      ]
     },
     "metadata": {},
     "output_type": "display_data"
    }
   ],
   "source": [
    "# Plotting the pruned tree in a plot tree\n",
    "plt.figure(figsize = (25, 12))\n",
    "plot_tree(\n",
    "    prune, filled=True, rounded=True, class_names=[\"HD: NEGATIVE\", \"HD: POSITIVE\"], feature_names=x_encoding.columns\n",
    ");"
   ]
  },
  {
   "cell_type": "markdown",
   "id": "c99fc06d-21be-4850-aa99-8b375cdecac2",
   "metadata": {
    "tags": []
   },
   "source": [
    "<br>\n",
    "\n",
    "## Linear Regression<a name = \"lr\"></a> \n",
    "\n",
    "***"
   ]
  },
  {
   "cell_type": "markdown",
   "id": "1a329287-d91a-4de8-96c4-75b62abcfb57",
   "metadata": {},
   "source": [
    "<br>\n",
    "\n",
    "### Imports\n",
    "\n",
    "***\n",
    "\n",
    "Here we will import all the necessary python libraries and tools necessary for our algorithm."
   ]
  },
  {
   "cell_type": "code",
   "execution_count": 54,
   "id": "f984dfa0-3aa5-4dae-9242-3fa822bbce9b",
   "metadata": {},
   "outputs": [],
   "source": [
    "# Standard imports\n",
    "import pandas as pd\n",
    "import matplotlib.pyplot as plt  \n",
    "import numpy as np\n",
    "import seaborn as sn\n",
    "\n",
    "# Enabling inline plotting\n",
    "%matplotlib inline\n",
    "\n",
    "# Importing datasets, metrics and classifiers\n",
    "from sklearn import datasets, linear_model\n",
    "from sklearn.model_selection import train_test_split\n",
    "from sklearn.linear_model import LinearRegression\n",
    "from sklearn.metrics import mean_squared_error, r2_score"
   ]
  },
  {
   "cell_type": "markdown",
   "id": "30dadefa-2cc7-4cc5-b180-6bafddc9335e",
   "metadata": {},
   "source": [
    "<br>\n",
    "\n",
    "### Importing Dataset\n",
    "\n",
    "***\n",
    "\n",
    "Here I will be using a dataset called the combined_process_power_plant.csv, this dataset contains 9568 data points collected from a Combined Cycle Power Plant over 6 years (2006-2011), when the plant was set to work with full load.\n",
    "\n",
    "This dataset is public and can be downloaded from this link:\n",
    "\n",
    "<a href=\"https://archive.ics.uci.edu/ml/index.php\">UCI Machine Learning Repository</a>"
   ]
  },
  {
   "cell_type": "markdown",
   "id": "ca09ff11-0b38-4fb8-8411-e24a33f8ca4b",
   "metadata": {},
   "source": [
    "<br>\n",
    "\n",
    "### Head\n",
    "\n",
    "***\n",
    "\n",
    "The head() method displays the first 5 rows from the dataset."
   ]
  },
  {
   "cell_type": "code",
   "execution_count": 55,
   "id": "ab72463c-c331-43d2-ab3a-ee3dd59a7a3a",
   "metadata": {},
   "outputs": [
    {
     "data": {
      "text/html": [
       "<div>\n",
       "<style scoped>\n",
       "    .dataframe tbody tr th:only-of-type {\n",
       "        vertical-align: middle;\n",
       "    }\n",
       "\n",
       "    .dataframe tbody tr th {\n",
       "        vertical-align: top;\n",
       "    }\n",
       "\n",
       "    .dataframe thead th {\n",
       "        text-align: right;\n",
       "    }\n",
       "</style>\n",
       "<table border=\"1\" class=\"dataframe\">\n",
       "  <thead>\n",
       "    <tr style=\"text-align: right;\">\n",
       "      <th></th>\n",
       "      <th>AT</th>\n",
       "      <th>V</th>\n",
       "      <th>AP</th>\n",
       "      <th>RH</th>\n",
       "      <th>PE</th>\n",
       "    </tr>\n",
       "  </thead>\n",
       "  <tbody>\n",
       "    <tr>\n",
       "      <th>0</th>\n",
       "      <td>14.96</td>\n",
       "      <td>41.76</td>\n",
       "      <td>1024.07</td>\n",
       "      <td>73.17</td>\n",
       "      <td>463.26</td>\n",
       "    </tr>\n",
       "    <tr>\n",
       "      <th>1</th>\n",
       "      <td>25.18</td>\n",
       "      <td>62.96</td>\n",
       "      <td>1020.04</td>\n",
       "      <td>59.08</td>\n",
       "      <td>444.37</td>\n",
       "    </tr>\n",
       "    <tr>\n",
       "      <th>2</th>\n",
       "      <td>5.11</td>\n",
       "      <td>39.40</td>\n",
       "      <td>1012.16</td>\n",
       "      <td>92.14</td>\n",
       "      <td>488.56</td>\n",
       "    </tr>\n",
       "    <tr>\n",
       "      <th>3</th>\n",
       "      <td>20.86</td>\n",
       "      <td>57.32</td>\n",
       "      <td>1010.24</td>\n",
       "      <td>76.64</td>\n",
       "      <td>446.48</td>\n",
       "    </tr>\n",
       "    <tr>\n",
       "      <th>4</th>\n",
       "      <td>10.82</td>\n",
       "      <td>37.50</td>\n",
       "      <td>1009.23</td>\n",
       "      <td>96.62</td>\n",
       "      <td>473.90</td>\n",
       "    </tr>\n",
       "  </tbody>\n",
       "</table>\n",
       "</div>"
      ],
      "text/plain": [
       "      AT      V       AP     RH      PE\n",
       "0  14.96  41.76  1024.07  73.17  463.26\n",
       "1  25.18  62.96  1020.04  59.08  444.37\n",
       "2   5.11  39.40  1012.16  92.14  488.56\n",
       "3  20.86  57.32  1010.24  76.64  446.48\n",
       "4  10.82  37.50  1009.23  96.62  473.90"
      ]
     },
     "execution_count": 55,
     "metadata": {},
     "output_type": "execute_result"
    }
   ],
   "source": [
    "# Reading in the imported dataset\n",
    "df = pd.read_csv(\"combined_process_power_plant.csv\")\n",
    "\n",
    "# Retrieves the first 5 rows of the dataframe\n",
    "df.head()"
   ]
  },
  {
   "cell_type": "markdown",
   "id": "f16633cf-7cd8-4c9e-8618-5e8748642c24",
   "metadata": {},
   "source": [
    "<br>\n",
    "\n",
    "### Shape\n",
    "\n",
    "***\n",
    "\n",
    "The shape refers to the size of the dataset which is output by calling the df.shape() function."
   ]
  },
  {
   "cell_type": "code",
   "execution_count": 56,
   "id": "db47f79f-fe49-49c9-8cb9-4b13be695bfe",
   "metadata": {},
   "outputs": [
    {
     "data": {
      "text/plain": [
       "(9568, 5)"
      ]
     },
     "execution_count": 56,
     "metadata": {},
     "output_type": "execute_result"
    }
   ],
   "source": [
    "# Retrieves the shape of the array of the dataframe\n",
    "df.shape"
   ]
  },
  {
   "cell_type": "markdown",
   "id": "c1654742-2f36-4d4b-ac43-361629eb902c",
   "metadata": {},
   "source": [
    "<br>\n",
    "\n",
    "### Describe\n",
    "\n",
    "***\n",
    "\n",
    "The describe method displays statistical details of the dataset of the dataset"
   ]
  },
  {
   "cell_type": "code",
   "execution_count": 57,
   "id": "4445bdda-440c-48e9-9695-370b6c0c27b0",
   "metadata": {
    "tags": []
   },
   "outputs": [
    {
     "data": {
      "text/html": [
       "<div>\n",
       "<style scoped>\n",
       "    .dataframe tbody tr th:only-of-type {\n",
       "        vertical-align: middle;\n",
       "    }\n",
       "\n",
       "    .dataframe tbody tr th {\n",
       "        vertical-align: top;\n",
       "    }\n",
       "\n",
       "    .dataframe thead th {\n",
       "        text-align: right;\n",
       "    }\n",
       "</style>\n",
       "<table border=\"1\" class=\"dataframe\">\n",
       "  <thead>\n",
       "    <tr style=\"text-align: right;\">\n",
       "      <th></th>\n",
       "      <th>AT</th>\n",
       "      <th>V</th>\n",
       "      <th>AP</th>\n",
       "      <th>RH</th>\n",
       "      <th>PE</th>\n",
       "    </tr>\n",
       "  </thead>\n",
       "  <tbody>\n",
       "    <tr>\n",
       "      <th>count</th>\n",
       "      <td>9568.000000</td>\n",
       "      <td>9568.000000</td>\n",
       "      <td>9568.000000</td>\n",
       "      <td>9568.000000</td>\n",
       "      <td>9568.000000</td>\n",
       "    </tr>\n",
       "    <tr>\n",
       "      <th>mean</th>\n",
       "      <td>19.651231</td>\n",
       "      <td>54.305804</td>\n",
       "      <td>1013.259078</td>\n",
       "      <td>73.308978</td>\n",
       "      <td>454.365009</td>\n",
       "    </tr>\n",
       "    <tr>\n",
       "      <th>std</th>\n",
       "      <td>7.452473</td>\n",
       "      <td>12.707893</td>\n",
       "      <td>5.938784</td>\n",
       "      <td>14.600269</td>\n",
       "      <td>17.066995</td>\n",
       "    </tr>\n",
       "    <tr>\n",
       "      <th>min</th>\n",
       "      <td>1.810000</td>\n",
       "      <td>25.360000</td>\n",
       "      <td>992.890000</td>\n",
       "      <td>25.560000</td>\n",
       "      <td>420.260000</td>\n",
       "    </tr>\n",
       "    <tr>\n",
       "      <th>25%</th>\n",
       "      <td>13.510000</td>\n",
       "      <td>41.740000</td>\n",
       "      <td>1009.100000</td>\n",
       "      <td>63.327500</td>\n",
       "      <td>439.750000</td>\n",
       "    </tr>\n",
       "    <tr>\n",
       "      <th>50%</th>\n",
       "      <td>20.345000</td>\n",
       "      <td>52.080000</td>\n",
       "      <td>1012.940000</td>\n",
       "      <td>74.975000</td>\n",
       "      <td>451.550000</td>\n",
       "    </tr>\n",
       "    <tr>\n",
       "      <th>75%</th>\n",
       "      <td>25.720000</td>\n",
       "      <td>66.540000</td>\n",
       "      <td>1017.260000</td>\n",
       "      <td>84.830000</td>\n",
       "      <td>468.430000</td>\n",
       "    </tr>\n",
       "    <tr>\n",
       "      <th>max</th>\n",
       "      <td>37.110000</td>\n",
       "      <td>81.560000</td>\n",
       "      <td>1033.300000</td>\n",
       "      <td>100.160000</td>\n",
       "      <td>495.760000</td>\n",
       "    </tr>\n",
       "  </tbody>\n",
       "</table>\n",
       "</div>"
      ],
      "text/plain": [
       "                AT            V           AP           RH           PE\n",
       "count  9568.000000  9568.000000  9568.000000  9568.000000  9568.000000\n",
       "mean     19.651231    54.305804  1013.259078    73.308978   454.365009\n",
       "std       7.452473    12.707893     5.938784    14.600269    17.066995\n",
       "min       1.810000    25.360000   992.890000    25.560000   420.260000\n",
       "25%      13.510000    41.740000  1009.100000    63.327500   439.750000\n",
       "50%      20.345000    52.080000  1012.940000    74.975000   451.550000\n",
       "75%      25.720000    66.540000  1017.260000    84.830000   468.430000\n",
       "max      37.110000    81.560000  1033.300000   100.160000   495.760000"
      ]
     },
     "execution_count": 57,
     "metadata": {},
     "output_type": "execute_result"
    }
   ],
   "source": [
    "# Viewing count, mean, std, min. max and percentiles of the dataframe\n",
    "df.describe()"
   ]
  },
  {
   "cell_type": "markdown",
   "id": "25378167-5358-42be-acb4-181489a3844a",
   "metadata": {},
   "source": [
    "<br>\n",
    "\n",
    "### Plotting The Head\n",
    "\n",
    "***\n",
    "\n",
    "Here we will simply plot the head (the first 5 rows) of the dataset, we will be utilizing the Matplotlib library tools.\n",
    "\n",
    "This is acheived by:\n",
    "\n",
    "- Drawing a line from one point to another point using the plot() function.\n",
    "- Plotting the data as a discrete bar using the kind='bar' parameter.\n",
    "- Setting the figsize() (this is a function is used to create a new figure) to (10,7).\n",
    "- Configure the grid lines using grid() function.\n",
    "- Setting the ticks (the values used to show specific points on the coordinate axis) to either major or minor by calling the which parameter, e.g. which='major'.\n",
    "- Setting the style of the line (choosing whether it connects or not) to a specific style, e.g. linestyle='-'.\n",
    "- Setting the width of the line, e.g. linewidth='0.5'.\n",
    "- Setting the color of the grid lines to a specified color, e.g. color='black'.\n",
    "- Displayig th figure by calling the show() function."
   ]
  },
  {
   "cell_type": "code",
   "execution_count": 58,
   "id": "fbf5763f-bfac-4f8c-b820-77383d2be23d",
   "metadata": {},
   "outputs": [
    {
     "data": {
      "image/png": "[encoded data removed]",
      "text/plain": [
       "<Figure size 720x504 with 1 Axes>"
      ]
     },
     "metadata": {
      "needs_background": "light"
     },
     "output_type": "display_data"
    }
   ],
   "source": [
    "# Plotting the first 5 rows of the dataframe using grid lines\n",
    "df1 = df.head(5)\n",
    "df1.plot(kind='bar',figsize=(10,7))\n",
    "plt.grid(which='major', linestyle='-', linewidth='0.5', color='green')\n",
    "plt.grid(which='minor', linestyle=':', linewidth='0.5', color='black')\n",
    "plt.show()"
   ]
  },
  {
   "cell_type": "markdown",
   "id": "367b1eff-7cdd-40ac-bfb8-7e08593d42f0",
   "metadata": {},
   "source": [
    "<br>\n",
    "\n",
    "### Defining X And Y\n",
    "\n",
    "***\n",
    "\n",
    "Here we will be deleting the 'PE' element as it is unnecessary as we continue and returning a new dataset all the elements apart from the 'PE' element.\n",
    "\n",
    "We will have 2 values for our datasets:\n",
    "\n",
    "- <i>X</i> will contain our dataset with the 'PE' dropped.\n",
    "- <i>Y</i> is will contain the dataset with only the 'PE' element."
   ]
  },
  {
   "cell_type": "code",
   "execution_count": 59,
   "id": "08b02f2e-1030-4946-927d-5f5f2671df68",
   "metadata": {},
   "outputs": [],
   "source": [
    "# Defining x and y value\n",
    "# Deleting the 'PE' rows from dataframe\n",
    "x = df.drop(['PE'], axis=1)\n",
    "y = df['PE']"
   ]
  },
  {
   "cell_type": "code",
   "execution_count": 60,
   "id": "f8bde04f-f6cf-4ea7-a81f-cca8be7abf72",
   "metadata": {},
   "outputs": [
    {
     "name": "stdout",
     "output_type": "stream",
     "text": [
      "         AT      V       AP     RH\n",
      "0     14.96  41.76  1024.07  73.17\n",
      "1     25.18  62.96  1020.04  59.08\n",
      "2      5.11  39.40  1012.16  92.14\n",
      "3     20.86  57.32  1010.24  76.64\n",
      "4     10.82  37.50  1009.23  96.62\n",
      "...     ...    ...      ...    ...\n",
      "9563  16.65  49.69  1014.01  91.00\n",
      "9564  13.19  39.18  1023.67  66.78\n",
      "9565  31.32  74.33  1012.92  36.48\n",
      "9566  24.48  69.45  1013.86  62.39\n",
      "9567  21.60  62.52  1017.23  67.87\n",
      "\n",
      "[9568 rows x 4 columns]\n"
     ]
    }
   ],
   "source": [
    "# Prining the x value\n",
    "print(x)"
   ]
  },
  {
   "cell_type": "code",
   "execution_count": 61,
   "id": "78db0e59-550e-408a-a0f5-3fafc4e1e9b4",
   "metadata": {},
   "outputs": [
    {
     "name": "stdout",
     "output_type": "stream",
     "text": [
      "0       463.26\n",
      "1       444.37\n",
      "2       488.56\n",
      "3       446.48\n",
      "4       473.90\n",
      "         ...  \n",
      "9563    460.03\n",
      "9564    469.62\n",
      "9565    429.57\n",
      "9566    435.74\n",
      "9567    453.28\n",
      "Name: PE, Length: 9568, dtype: float64\n"
     ]
    }
   ],
   "source": [
    "# Printing the y value\n",
    "print(y)"
   ]
  },
  {
   "cell_type": "markdown",
   "id": "56ed2a08-47de-4b75-a215-f845c58c85e4",
   "metadata": {},
   "source": [
    "<br>\n",
    "\n",
    "### Correlation\n",
    "\n",
    "***\n",
    "\n",
    "Here we will calculate the correlation of each of the elements in the dataset, this will be simply done by calling the pre-built corr() method."
   ]
  },
  {
   "cell_type": "code",
   "execution_count": 62,
   "id": "f4c41378-a2fa-4529-82d7-b77af9565dbd",
   "metadata": {},
   "outputs": [
    {
     "data": {
      "text/html": [
       "<div>\n",
       "<style scoped>\n",
       "    .dataframe tbody tr th:only-of-type {\n",
       "        vertical-align: middle;\n",
       "    }\n",
       "\n",
       "    .dataframe tbody tr th {\n",
       "        vertical-align: top;\n",
       "    }\n",
       "\n",
       "    .dataframe thead th {\n",
       "        text-align: right;\n",
       "    }\n",
       "</style>\n",
       "<table border=\"1\" class=\"dataframe\">\n",
       "  <thead>\n",
       "    <tr style=\"text-align: right;\">\n",
       "      <th></th>\n",
       "      <th>AT</th>\n",
       "      <th>V</th>\n",
       "      <th>AP</th>\n",
       "      <th>RH</th>\n",
       "      <th>PE</th>\n",
       "    </tr>\n",
       "  </thead>\n",
       "  <tbody>\n",
       "    <tr>\n",
       "      <th>AT</th>\n",
       "      <td>1.000000</td>\n",
       "      <td>0.844107</td>\n",
       "      <td>-0.507549</td>\n",
       "      <td>-0.542535</td>\n",
       "      <td>-0.948128</td>\n",
       "    </tr>\n",
       "    <tr>\n",
       "      <th>V</th>\n",
       "      <td>0.844107</td>\n",
       "      <td>1.000000</td>\n",
       "      <td>-0.413502</td>\n",
       "      <td>-0.312187</td>\n",
       "      <td>-0.869780</td>\n",
       "    </tr>\n",
       "    <tr>\n",
       "      <th>AP</th>\n",
       "      <td>-0.507549</td>\n",
       "      <td>-0.413502</td>\n",
       "      <td>1.000000</td>\n",
       "      <td>0.099574</td>\n",
       "      <td>0.518429</td>\n",
       "    </tr>\n",
       "    <tr>\n",
       "      <th>RH</th>\n",
       "      <td>-0.542535</td>\n",
       "      <td>-0.312187</td>\n",
       "      <td>0.099574</td>\n",
       "      <td>1.000000</td>\n",
       "      <td>0.389794</td>\n",
       "    </tr>\n",
       "    <tr>\n",
       "      <th>PE</th>\n",
       "      <td>-0.948128</td>\n",
       "      <td>-0.869780</td>\n",
       "      <td>0.518429</td>\n",
       "      <td>0.389794</td>\n",
       "      <td>1.000000</td>\n",
       "    </tr>\n",
       "  </tbody>\n",
       "</table>\n",
       "</div>"
      ],
      "text/plain": [
       "          AT         V        AP        RH        PE\n",
       "AT  1.000000  0.844107 -0.507549 -0.542535 -0.948128\n",
       "V   0.844107  1.000000 -0.413502 -0.312187 -0.869780\n",
       "AP -0.507549 -0.413502  1.000000  0.099574  0.518429\n",
       "RH -0.542535 -0.312187  0.099574  1.000000  0.389794\n",
       "PE -0.948128 -0.869780  0.518429  0.389794  1.000000"
      ]
     },
     "execution_count": 62,
     "metadata": {},
     "output_type": "execute_result"
    }
   ],
   "source": [
    "# Finding the correlation in dataframe\n",
    "df.corr()"
   ]
  },
  {
   "cell_type": "markdown",
   "id": "e0528ba7-f284-4232-a1a2-aa001d4d53ef",
   "metadata": {},
   "source": [
    "<br>\n",
    "\n",
    "### Plotting The Correlation\n",
    "\n",
    "***\n",
    "\n",
    "Here we will simply plot correlation (the association between two variables) of the dataset, we will be utilizing the Seaborn library tools.\n",
    "\n",
    "For this we will use a Seaborn Heatmap which will contain the values that will be represented by different shades of the same colour for each of the values plotted."
   ]
  },
  {
   "cell_type": "code",
   "execution_count": 63,
   "id": "a437b666-4f22-4ba1-bf53-2b4d1726d8c2",
   "metadata": {},
   "outputs": [
    {
     "data": {
      "text/plain": [
       "<AxesSubplot:>"
      ]
     },
     "execution_count": 63,
     "metadata": {},
     "output_type": "execute_result"
    },
    {
     "data": {
      "image/png": "[encoded data removed]",
      "text/plain": [
       "<Figure size 432x288 with 2 Axes>"
      ]
     },
     "metadata": {
      "needs_background": "light"
     },
     "output_type": "display_data"
    }
   ],
   "source": [
    "# Plotting the correlation of dataframe in a heatmap  (two dimensional graph)\n",
    "sn.heatmap(df.corr())"
   ]
  },
  {
   "cell_type": "markdown",
   "id": "6eadcce9-cb5e-4e0b-b63e-680e32ad6419",
   "metadata": {},
   "source": [
    "<br>\n",
    "\n",
    "### Splitting Dataset\n",
    "\n",
    "***\n",
    "\n",
    "The training set is a initial set of data in the class and the test set is a another set of data used to test a machine learning program after it has been trained.\n",
    "<br>\n",
    "The data is split by setting the test_size to 0.2."
   ]
  },
  {
   "cell_type": "code",
   "execution_count": 64,
   "id": "17cb5722-f56f-45e2-96ca-935798ee8d8c",
   "metadata": {},
   "outputs": [],
   "source": [
    "# Splitting data into train and test subsets\n",
    "x_train, x_test, y_train, y_test = train_test_split(\n",
    "    x, y, test_size=0.2, random_state=0\n",
    ")"
   ]
  },
  {
   "cell_type": "markdown",
   "id": "e1333e03-8459-4070-950c-e2c26591c8af",
   "metadata": {},
   "source": [
    "<br>\n",
    "\n",
    "### Defining The Model\n",
    "\n",
    "***\n",
    "\n",
    "We will be using the Linear Regression Classification as our classifier."
   ]
  },
  {
   "cell_type": "markdown",
   "id": "a05134df-8183-4adb-8318-d4b7e2fabbef",
   "metadata": {},
   "source": [
    "<br>\n",
    "\n",
    "### Training The Model\n",
    "\n",
    "***\n",
    "\n",
    "Here we will train the classifier by calling the fit() function."
   ]
  },
  {
   "cell_type": "code",
   "execution_count": 65,
   "id": "fc600578-48dc-4fda-bb73-a0003717d219",
   "metadata": {
    "tags": []
   },
   "outputs": [
    {
     "data": {
      "text/plain": [
       "LinearRegression()"
      ]
     },
     "execution_count": 65,
     "metadata": {},
     "output_type": "execute_result"
    }
   ],
   "source": [
    "# Create a  logistic regression classifier\n",
    "clf = linear_model.LinearRegression()\n",
    "\n",
    "# Fitting on the train samples\n",
    "clf.fit(x_train, y_train)"
   ]
  },
  {
   "cell_type": "markdown",
   "id": "f96a367a-3e70-4545-a434-0513db4c8c40",
   "metadata": {},
   "source": [
    "<br>\n",
    "\n",
    "### Creating A Predcition\n",
    "\n",
    "***\n",
    "\n",
    "Since we trained our algorithm by splitting the datasets, we can make a prediction. \n",
    "<br>\n",
    "We will use our test set data and see how accurately our algorithm predicts the percentage score.\n",
    "<br>\n",
    "The 'prediction' value will be am array containing the predicted values for the inputs in the test set data series."
   ]
  },
  {
   "cell_type": "code",
   "execution_count": 66,
   "id": "fae1bdbe-1d60-473c-9368-be96fc35fee0",
   "metadata": {},
   "outputs": [
    {
     "name": "stdout",
     "output_type": "stream",
     "text": [
      "[431.42761597 458.56124622 462.75264705 ... 469.51835895 442.41759454\n",
      " 461.88279939]\n"
     ]
    }
   ],
   "source": [
    "# Assigning 'prediction' the value of the prediction of the x_test subset\n",
    "prediction = clf.predict(x_test)\n",
    "\n",
    "# Prining the prediction\n",
    "print(prediction)"
   ]
  },
  {
   "cell_type": "code",
   "execution_count": 67,
   "id": "bd414651-76f3-497d-8d8a-b443de3a8b07",
   "metadata": {},
   "outputs": [
    {
     "name": "stderr",
     "output_type": "stream",
     "text": [
      "C:\\Users\\Emmanuel\\anaconda3\\lib\\site-packages\\sklearn\\base.py:445: UserWarning: X does not have valid feature names, but LinearRegression was fitted with feature names\n",
      "  warnings.warn(\n"
     ]
    },
    {
     "data": {
      "text/plain": [
       "array([467.29723807])"
      ]
     },
     "execution_count": 67,
     "metadata": {},
     "output_type": "execute_result"
    }
   ],
   "source": [
    "# Predicting test set results\n",
    "clf.predict([[14.96,41.76,1024.07,73.17]])"
   ]
  },
  {
   "cell_type": "code",
   "execution_count": 68,
   "id": "78665070-e90c-4507-95e5-a0fd887800c2",
   "metadata": {
    "tags": []
   },
   "outputs": [
    {
     "data": {
      "text/plain": [
       "0.9325315554761302"
      ]
     },
     "execution_count": 68,
     "metadata": {},
     "output_type": "execute_result"
    }
   ],
   "source": [
    "# Calculating coefficient of determination\n",
    "r2_score(y_test, prediction)"
   ]
  },
  {
   "cell_type": "markdown",
   "id": "164f0e17-44ef-4ce0-9448-06090cd28bb8",
   "metadata": {},
   "source": [
    "<br>\n",
    "\n",
    "### Intercept\n",
    "\n",
    "***\n",
    "\n",
    "Here we will calculate the intercept of the model, this will be simply done by calling the pre-built intercept_ method."
   ]
  },
  {
   "cell_type": "code",
   "execution_count": 69,
   "id": "ded73c64-2382-4b4e-9b69-4982c3865b88",
   "metadata": {},
   "outputs": [
    {
     "name": "stdout",
     "output_type": "stream",
     "text": [
      "Intercept: \n",
      " 452.8410371616381\n"
     ]
    }
   ],
   "source": [
    "# Printing the intercept (the point where the regression crosses the y-xis)\n",
    "print(\"Intercept: \\n\",clf.intercept_)"
   ]
  },
  {
   "cell_type": "markdown",
   "id": "fc541e92-3e2d-4834-9ce1-1fb381e7d366",
   "metadata": {},
   "source": [
    "<br>\n",
    "\n",
    "### Slope\n",
    "\n",
    "***\n",
    "\n",
    "Here we will calculate the slope of the model, this will be simply done by calling the pre-built coef_ method."
   ]
  },
  {
   "cell_type": "code",
   "execution_count": 70,
   "id": "41403af2-b64f-4fe0-ae84-4d765916b3ee",
   "metadata": {},
   "outputs": [
    {
     "name": "stdout",
     "output_type": "stream",
     "text": [
      "Coefficients: \n",
      " [-1.97313099 -0.23649993  0.06387891 -0.15807019]\n"
     ]
    }
   ],
   "source": [
    "# Printing the coefficient of prediction of each of the targets\n",
    "print(\"Coefficients: \\n\", clf.coef_)"
   ]
  },
  {
   "cell_type": "markdown",
   "id": "fb046b4f-b49a-44ec-89a0-e95ff528bee2",
   "metadata": {},
   "source": [
    "<br>\n",
    "\n",
    "### Evaluating The Model\n",
    "\n",
    "***\n",
    "\n",
    "We will evaluate our model performance of the algorithm by calculating the residual sum of squares and the explained variance score (R^2).\n",
    "<br>\n",
    "For regression algorithms, three evaluation metrics are commonly used:\n",
    "\n",
    "- Mean Absolute Error\n",
    "- Mean Squared Error\n",
    "- Root Mean Squared Error"
   ]
  },
  {
   "cell_type": "code",
   "execution_count": 71,
   "id": "9ac5db80-7f88-42ab-a299-0d57c1991f79",
   "metadata": {
    "tags": []
   },
   "outputs": [
    {
     "name": "stdout",
     "output_type": "stream",
     "text": [
      "Mean Absolute Error: 3.566564655203823\n",
      "Mean Squared Error: 19.733699303497648\n",
      "Root Mean Squared Error: 4.442262858442491\n"
     ]
    }
   ],
   "source": [
    "# Printing the calculation of the mean absolute error, mean squared error and root mean squared error\n",
    "print('Mean Absolute Error:', metrics.mean_absolute_error(y_test, prediction))\n",
    "print('Mean Squared Error:', metrics.mean_squared_error(y_test, prediction))\n",
    "print('Root Mean Squared Error:', np.sqrt(metrics.mean_squared_error(y_test, prediction)))"
   ]
  },
  {
   "cell_type": "markdown",
   "id": "d8bc16d0-bcaa-44ca-b3c9-dcd340f99799",
   "metadata": {},
   "source": [
    "<br>\n",
    "\n",
    "### Coefficient Outcome\n",
    "\n",
    "***\n",
    "\n",
    "Here we will view the compare the coefficient of each of the elements in our dataset"
   ]
  },
  {
   "cell_type": "code",
   "execution_count": 72,
   "id": "b2e62f04-2cbb-4d08-9bd3-b1006a695050",
   "metadata": {
    "tags": []
   },
   "outputs": [
    {
     "data": {
      "text/html": [
       "<div>\n",
       "<style scoped>\n",
       "    .dataframe tbody tr th:only-of-type {\n",
       "        vertical-align: middle;\n",
       "    }\n",
       "\n",
       "    .dataframe tbody tr th {\n",
       "        vertical-align: top;\n",
       "    }\n",
       "\n",
       "    .dataframe thead th {\n",
       "        text-align: right;\n",
       "    }\n",
       "</style>\n",
       "<table border=\"1\" class=\"dataframe\">\n",
       "  <thead>\n",
       "    <tr style=\"text-align: right;\">\n",
       "      <th></th>\n",
       "      <th>Coefficient</th>\n",
       "    </tr>\n",
       "  </thead>\n",
       "  <tbody>\n",
       "    <tr>\n",
       "      <th>AT</th>\n",
       "      <td>-1.973131</td>\n",
       "    </tr>\n",
       "    <tr>\n",
       "      <th>V</th>\n",
       "      <td>-0.236500</td>\n",
       "    </tr>\n",
       "    <tr>\n",
       "      <th>AP</th>\n",
       "      <td>0.063879</td>\n",
       "    </tr>\n",
       "    <tr>\n",
       "      <th>RH</th>\n",
       "      <td>-0.158070</td>\n",
       "    </tr>\n",
       "  </tbody>\n",
       "</table>\n",
       "</div>"
      ],
      "text/plain": [
       "    Coefficient\n",
       "AT    -1.973131\n",
       "V     -0.236500\n",
       "AP     0.063879\n",
       "RH    -0.158070"
      ]
     },
     "execution_count": 72,
     "metadata": {},
     "output_type": "execute_result"
    }
   ],
   "source": [
    "# Retrieving the coefficient of each of the columns\n",
    "coeff_df = pd.DataFrame(clf.coef_, x.columns, columns=['Coefficient'])\n",
    "coeff_df"
   ]
  },
  {
   "cell_type": "markdown",
   "id": "60c592e4-7a1d-4018-898a-326d582ae247",
   "metadata": {},
   "source": [
    "<br>\n",
    "\n",
    "### Testing Accuracy\n",
    "\n",
    "***\n",
    "\n",
    "Here we can retrieve the accuracy of the model by calling the score() function and displaying the accuracy percentage."
   ]
  },
  {
   "cell_type": "code",
   "execution_count": 73,
   "id": "44da2eb6-e52a-4c1d-b2ad-38cd36fe5030",
   "metadata": {},
   "outputs": [
    {
     "name": "stdout",
     "output_type": "stream",
     "text": [
      "Accuracy is : 93.0 %\n"
     ]
    }
   ],
   "source": [
    "# Calculating the accuracy score\n",
    "score = clf.score(x_test, y_test)\n",
    "\n",
    "# Printing the score\n",
    "print(\"Accuracy is :\",round(score,2)*100,\"%\")"
   ]
  },
  {
   "cell_type": "markdown",
   "id": "0b6449ba-267b-4b7a-8dda-b365bab22c70",
   "metadata": {},
   "source": [
    "<br>\n",
    "\n",
    "### Plotting Prediction\n",
    "\n",
    "***\n",
    "\n",
    "Here we will simply plot the predicted values against the actual values, we will be utilizing the Matplotlib library tool known as a Scatterplot.\n",
    "\n",
    "This is achieved by:\n",
    "\n",
    "- Displaying a figure object using figure() function.\n",
    "- Setting the figsize() (this is a function is used to create a new figure) to (15,10).\n",
    "- Setting the width of the line by setting the paramter linewidth to 3.\n",
    "- Setting the color of the grid lines to red by assigning the value to the parameter.\n",
    "- Labeling the <i>X</i> and <i>Y</i> to 'Truth' and 'Prediction' by calling the xlabel() and ylabel().\n",
    "- Labeling the title of the figure by calling the title() function."
   ]
  },
  {
   "cell_type": "code",
   "execution_count": 74,
   "id": "d135c551-1814-488c-a6ec-071b9b567d05",
   "metadata": {},
   "outputs": [
    {
     "data": {
      "text/plain": [
       "Text(0.5, 1.0, 'Truth vs. Predicted')"
      ]
     },
     "execution_count": 74,
     "metadata": {},
     "output_type": "execute_result"
    },
    {
     "data": {
      "image/png": "[encoded data removed]",
      "text/plain": [
       "<Figure size 1080x720 with 1 Axes>"
      ]
     },
     "metadata": {
      "needs_background": "light"
     },
     "output_type": "display_data"
    }
   ],
   "source": [
    "# Plotting values in a scatter plot\n",
    "plt.figure(figsize=(15, 10))\n",
    "plt.scatter(y_test, prediction, color=\"red\", linewidth=3)\n",
    "plt.xlabel('Truth')\n",
    "plt.ylabel('Prediction')\n",
    "plt.title('Truth vs. Predicted')"
   ]
  },
  {
   "cell_type": "markdown",
   "id": "d3c31bb6-0f3a-4b97-978c-f3cbd657fb25",
   "metadata": {},
   "source": [
    "<br>\n",
    "\n",
    "### Predicted Outcome\n",
    "\n",
    "***\n",
    "\n",
    "Here we will view the contrast between the actual values and the predicted values"
   ]
  },
  {
   "cell_type": "code",
   "execution_count": 75,
   "id": "507659eb-43c7-4901-aa14-d9afeafbe49c",
   "metadata": {},
   "outputs": [
    {
     "data": {
      "text/html": [
       "<div>\n",
       "<style scoped>\n",
       "    .dataframe tbody tr th:only-of-type {\n",
       "        vertical-align: middle;\n",
       "    }\n",
       "\n",
       "    .dataframe tbody tr th {\n",
       "        vertical-align: top;\n",
       "    }\n",
       "\n",
       "    .dataframe thead th {\n",
       "        text-align: right;\n",
       "    }\n",
       "</style>\n",
       "<table border=\"1\" class=\"dataframe\">\n",
       "  <thead>\n",
       "    <tr style=\"text-align: right;\">\n",
       "      <th></th>\n",
       "      <th>Truth</th>\n",
       "      <th>Predicted</th>\n",
       "      <th>Difference</th>\n",
       "    </tr>\n",
       "  </thead>\n",
       "  <tbody>\n",
       "    <tr>\n",
       "      <th>4834</th>\n",
       "      <td>431.23</td>\n",
       "      <td>431.427616</td>\n",
       "      <td>-0.197616</td>\n",
       "    </tr>\n",
       "    <tr>\n",
       "      <th>1768</th>\n",
       "      <td>460.01</td>\n",
       "      <td>458.561246</td>\n",
       "      <td>1.448754</td>\n",
       "    </tr>\n",
       "    <tr>\n",
       "      <th>2819</th>\n",
       "      <td>461.14</td>\n",
       "      <td>462.752647</td>\n",
       "      <td>-1.612647</td>\n",
       "    </tr>\n",
       "    <tr>\n",
       "      <th>7779</th>\n",
       "      <td>445.90</td>\n",
       "      <td>448.595962</td>\n",
       "      <td>-2.695962</td>\n",
       "    </tr>\n",
       "    <tr>\n",
       "      <th>7065</th>\n",
       "      <td>451.29</td>\n",
       "      <td>457.870777</td>\n",
       "      <td>-6.580777</td>\n",
       "    </tr>\n",
       "    <tr>\n",
       "      <th>9482</th>\n",
       "      <td>432.68</td>\n",
       "      <td>429.693839</td>\n",
       "      <td>2.986161</td>\n",
       "    </tr>\n",
       "    <tr>\n",
       "      <th>9</th>\n",
       "      <td>477.50</td>\n",
       "      <td>473.041853</td>\n",
       "      <td>4.458147</td>\n",
       "    </tr>\n",
       "    <tr>\n",
       "      <th>4986</th>\n",
       "      <td>459.68</td>\n",
       "      <td>456.508363</td>\n",
       "      <td>3.171637</td>\n",
       "    </tr>\n",
       "    <tr>\n",
       "      <th>6168</th>\n",
       "      <td>477.50</td>\n",
       "      <td>474.340491</td>\n",
       "      <td>3.159509</td>\n",
       "    </tr>\n",
       "    <tr>\n",
       "      <th>3664</th>\n",
       "      <td>444.99</td>\n",
       "      <td>446.343029</td>\n",
       "      <td>-1.353029</td>\n",
       "    </tr>\n",
       "    <tr>\n",
       "      <th>36</th>\n",
       "      <td>444.37</td>\n",
       "      <td>441.939224</td>\n",
       "      <td>2.430776</td>\n",
       "    </tr>\n",
       "    <tr>\n",
       "      <th>1109</th>\n",
       "      <td>437.04</td>\n",
       "      <td>441.475146</td>\n",
       "      <td>-4.435146</td>\n",
       "    </tr>\n",
       "    <tr>\n",
       "      <th>6662</th>\n",
       "      <td>442.34</td>\n",
       "      <td>444.721069</td>\n",
       "      <td>-2.381069</td>\n",
       "    </tr>\n",
       "    <tr>\n",
       "      <th>8603</th>\n",
       "      <td>440.74</td>\n",
       "      <td>440.842943</td>\n",
       "      <td>-0.102943</td>\n",
       "    </tr>\n",
       "    <tr>\n",
       "      <th>8363</th>\n",
       "      <td>436.55</td>\n",
       "      <td>438.401019</td>\n",
       "      <td>-1.851019</td>\n",
       "    </tr>\n",
       "    <tr>\n",
       "      <th>2201</th>\n",
       "      <td>460.24</td>\n",
       "      <td>454.316233</td>\n",
       "      <td>5.923767</td>\n",
       "    </tr>\n",
       "    <tr>\n",
       "      <th>9073</th>\n",
       "      <td>448.66</td>\n",
       "      <td>444.895091</td>\n",
       "      <td>3.764909</td>\n",
       "    </tr>\n",
       "    <tr>\n",
       "      <th>6455</th>\n",
       "      <td>432.94</td>\n",
       "      <td>437.386915</td>\n",
       "      <td>-4.446915</td>\n",
       "    </tr>\n",
       "    <tr>\n",
       "      <th>628</th>\n",
       "      <td>452.82</td>\n",
       "      <td>451.300374</td>\n",
       "      <td>1.519626</td>\n",
       "    </tr>\n",
       "    <tr>\n",
       "      <th>3779</th>\n",
       "      <td>432.20</td>\n",
       "      <td>427.442645</td>\n",
       "      <td>4.757355</td>\n",
       "    </tr>\n",
       "  </tbody>\n",
       "</table>\n",
       "</div>"
      ],
      "text/plain": [
       "       Truth   Predicted  Difference\n",
       "4834  431.23  431.427616   -0.197616\n",
       "1768  460.01  458.561246    1.448754\n",
       "2819  461.14  462.752647   -1.612647\n",
       "7779  445.90  448.595962   -2.695962\n",
       "7065  451.29  457.870777   -6.580777\n",
       "9482  432.68  429.693839    2.986161\n",
       "9     477.50  473.041853    4.458147\n",
       "4986  459.68  456.508363    3.171637\n",
       "6168  477.50  474.340491    3.159509\n",
       "3664  444.99  446.343029   -1.353029\n",
       "36    444.37  441.939224    2.430776\n",
       "1109  437.04  441.475146   -4.435146\n",
       "6662  442.34  444.721069   -2.381069\n",
       "8603  440.74  440.842943   -0.102943\n",
       "8363  436.55  438.401019   -1.851019\n",
       "2201  460.24  454.316233    5.923767\n",
       "9073  448.66  444.895091    3.764909\n",
       "6455  432.94  437.386915   -4.446915\n",
       "628   452.82  451.300374    1.519626\n",
       "3779  432.20  427.442645    4.757355"
      ]
     },
     "execution_count": 75,
     "metadata": {},
     "output_type": "execute_result"
    }
   ],
   "source": [
    "# Retrieving the actual values, predicted values and coefficient of the first 20 rows in the dataframe\n",
    "predict = pd.DataFrame({'Truth': y_test, 'Predicted': prediction, 'Difference': y_test-prediction})\n",
    "predict[0:20]"
   ]
  },
  {
   "cell_type": "markdown",
   "id": "213651ef-e98f-4bac-9c75-c2b5c1c5b114",
   "metadata": {},
   "source": [
    "<br>\n",
    "\n",
    "### Conclusion\n",
    "\n",
    "***\n",
    "\n",
    "In conclusion in this notebook we have gone through:\n",
    "\n",
    "* [Handwritten Digits Recognition](#hdr)\n",
    "* [Decision Tree Classification](#dtc) \n",
    "* [Linear Regression](#lr)"
   ]
  },
  {
   "cell_type": "markdown",
   "id": "7e019ac7-3584-4377-ad3e-66cc09534a20",
   "metadata": {
    "jp-MarkdownHeadingCollapsed": true,
    "tags": []
   },
   "source": [
    "***\n",
    "\n",
    "# End"
   ]
  }
 ],
 "metadata": {
  "kernelspec": {
   "display_name": "Python 3 (ipykernel)",
   "language": "python",
   "name": "python3"
  },
  "language_info": {
   "codemirror_mode": {
    "name": "ipython",
    "version": 3
   },
   "file_extension": ".py",
   "mimetype": "text/x-python",
   "name": "python",
   "nbconvert_exporter": "python",
   "pygments_lexer": "ipython3",
   "version": "3.9.7"
  }
 },
 "nbformat": 4,
 "nbformat_minor": 5
}
