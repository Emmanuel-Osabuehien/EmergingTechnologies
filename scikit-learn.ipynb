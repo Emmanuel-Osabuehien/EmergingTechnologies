{
 "cells": [
  {
   "cell_type": "markdown",
   "id": "939259e2-bff1-4e75-81b4-3347c65f815c",
   "metadata": {},
   "source": [
    "# Overview of scikit-learn python library"
   ]
  },
  {
   "cell_type": "code",
   "execution_count": null,
   "id": "8d629de2-321c-46bb-a8e9-d4dbe6f205df",
   "metadata": {},
   "outputs": [],
   "source": []
  },
  {
   "cell_type": "code",
   "execution_count": null,
   "id": "d26ed7ce-394e-4a9d-935a-d2a556bda6b0",
   "metadata": {},
   "outputs": [],
   "source": []
  },
  {
   "cell_type": "code",
   "execution_count": null,
   "id": "ebf1dfea-9841-4ced-8107-329b57ab5f74",
   "metadata": {},
   "outputs": [],
   "source": []
  },
  {
   "cell_type": "code",
   "execution_count": null,
   "id": "3b7009dd-9c29-4851-ad5e-165b4fa69b8a",
   "metadata": {},
   "outputs": [],
   "source": []
  },
  {
   "cell_type": "code",
   "execution_count": null,
   "id": "c83c11f2-76af-4a61-880c-2366c52551e4",
   "metadata": {},
   "outputs": [],
   "source": []
  }
 ],
 "metadata": {
  "kernelspec": {
   "display_name": "Python 3",
   "language": "python",
   "name": "python3"
  },
  "language_info": {
   "codemirror_mode": {
    "name": "ipython",
    "version": 3
   },
   "file_extension": ".py",
   "mimetype": "text/x-python",
   "name": "python",
   "nbconvert_exporter": "python",
   "pygments_lexer": "ipython3",
   "version": "3.8.8"
  }
 },
 "nbformat": 4,
 "nbformat_minor": 5
}
