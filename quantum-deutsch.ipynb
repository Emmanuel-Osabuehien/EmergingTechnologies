{
 "cells": [
  {
   "cell_type": "markdown",
   "id": "3a8df695-a7b1-4d8d-afef-42286b2e4948",
   "metadata": {},
   "source": [
    "# Quantum-Deutsch\n",
    "***"
   ]
  },
  {
   "cell_type": "markdown",
   "id": "a45b0064-40f2-4957-9928-2527c4262ff4",
   "metadata": {},
   "source": [
    "## Comparison of Quantum Computing and Classical Computing"
   ]
  },
  {
   "cell_type": "markdown",
   "id": "2cca7288-0d48-4020-8d76-5049dad81784",
   "metadata": {},
   "source": [
    "<h4>What is a quantum computer?</h4>\n",
    "\n",
    "<p>A quantum computer is a machine, built similar to your conventional computer but quantum computers use properties described by quantum physics, used to perform calculations and store data.\n",
    "\n",
    "Quantum computers are still not as popular compared to classical computers due to economic reasons but many believe quantum computers will soon take over supercomputers due to performance as companie across different fields of science are experimenting with quantum computers to advance technology and develop things.</p>\n",
    "\n",
    "<p>Some of the fields that use quantum computers include: </p>\n",
    "\n",
    "- Artifical Intelligence\n",
    "- Cybersecurity\n",
    "- Weather Forecasting\n",
    "- Healthcare\n",
    "- Finance Modelling"
   ]
  },
  {
   "cell_type": "markdown",
   "id": "43ef759a-a018-4d79-897a-65dd12166cc9",
   "metadata": {},
   "source": [
    "<h4>How does a quantum computer work?</h4>\n",
    "\n",
    "<p>Quantum Computing is centered around Quantum Mechanics particularly 'superstition' and 'entanglement', it uses computers to perform calculations using qubits (a quantum bit) but instead of only being in a single state at one time, qubits can be represented using 0 or 1 simultaneously meaning it can be in more than one state at a time.\n",
    "\n",
    "These states are undefined properties of an object before detected, which can be something such as the elctron spin or polarisation of a photon.\n",
    "\n",
    "This allows quantum computers to perform complex mathematical calculations, e.g. Hilbert’s Tenth Problem and Kruskal’s tree theorem\n",
    "or it can solve problems such as producing diffcult to break security codes and predicting real world events</p>"
   ]
  },
  {
   "cell_type": "markdown",
   "id": "ecfe9217-da2b-4922-a4df-593a5a85f363",
   "metadata": {},
   "source": [
    "<h4>What is the difference between quantum computing and classical computing?</h4>\n",
    "\n",
    "<p>Computer have been around since the 19th century and where we started with the use of classical/conventional computing but as time has past and technology evolves we seem to be heading into a direction of computing known now as 'quantum computing' which looks set to completely take over from classical computing.\n",
    "\n",
    "When refering to the term 'Classical Computing' centered around 'electrical circuits', we are refering to use of computers to perform calculations with transisitors and the use of bits where info is stored and represented using  0 meaning 'Off' and 1 eaning 'On', classical computing is still supported to this day.\n",
    "\n",
    "Now in contrast, 'Quantum Computing' is centered around Quantum Mechanics particularly 'superstition' and 'entanglement', it uses computers to perform calculations using qubits (a quantum bit) but instead of only being in a single state at one time, qubits can be represented using 0 or 1 simultaneously meaning it can be in more than one state at a time, giving it an advantage which allows quantum computers to process more data.\n",
    "\n",
    "Other differences between classical and quantum computing includes:\n",
    "\n",
    "- Quantum computing has a higher error rate compared to Classical computing which has a low error rate.\n",
    "- More everyday tasks are completed using Classical computing rather than Quantum computing, quantum is better for tasks such as Simultations and Data Analysis.\n",
    "- Quantum computers are not for simple, everyday use and are used for used mainly in scientific fields which is the opposite of classical computers which are made for common, everyday use.\n",
    "- Classical computing uses classical physics while Quantum Computing uses quantum mechanics and quantum physics.\n",
    "- Classical computing uses your usual programming languages i.e. Java, C#, Python while Quantum computing does not, requiring the development of specific algorithms.</p>"
   ]
  },
  {
   "cell_type": "code",
   "execution_count": null,
   "id": "6b2c729f-9e81-4031-97c4-d4229ca7a58e",
   "metadata": {},
   "outputs": [],
   "source": []
  },
  {
   "cell_type": "code",
   "execution_count": null,
   "id": "e42782d4-fc17-4328-810a-332ac51f495c",
   "metadata": {},
   "outputs": [],
   "source": []
  },
  {
   "cell_type": "code",
   "execution_count": null,
   "id": "678a3ee3-3bc8-42c8-87e4-c9a7b7131140",
   "metadata": {},
   "outputs": [],
   "source": []
  },
  {
   "cell_type": "code",
   "execution_count": null,
   "id": "8b4afbb5-e387-4bc7-88ee-c087c0fbd3c5",
   "metadata": {},
   "outputs": [],
   "source": []
  },
  {
   "cell_type": "code",
   "execution_count": null,
   "id": "81a36b6b-8e75-41ad-8e43-f40e14c9abe5",
   "metadata": {},
   "outputs": [],
   "source": []
  },
  {
   "cell_type": "code",
   "execution_count": null,
   "id": "3710939a-4189-4891-a693-89219fb1e9d0",
   "metadata": {},
   "outputs": [],
   "source": []
  }
 ],
 "metadata": {
  "kernelspec": {
   "display_name": "Python 3 (ipykernel)",
   "language": "python",
   "name": "python3"
  },
  "language_info": {
   "codemirror_mode": {
    "name": "ipython",
    "version": 3
   },
   "file_extension": ".py",
   "mimetype": "text/x-python",
   "name": "python",
   "nbconvert_exporter": "python",
   "pygments_lexer": "ipython3",
   "version": "3.8.12"
  }
 },
 "nbformat": 4,
 "nbformat_minor": 5
}
