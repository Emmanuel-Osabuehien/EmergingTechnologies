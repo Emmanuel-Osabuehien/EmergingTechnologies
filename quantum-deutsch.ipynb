{
 "cells": [
  {
   "cell_type": "markdown",
   "id": "3a8df695-a7b1-4d8d-afef-42286b2e4948",
   "metadata": {},
   "source": [
    "Quantum-Deutsc"
   ]
  },
  {
   "cell_type": "markdown",
   "id": "2a53449b-e6e8-4ff5-b493-61e55dce906c",
   "metadata": {},
   "source": [
    "# Comparison of quantum computing and classical computing"
   ]
  },
  {
   "cell_type": "code",
   "execution_count": null,
   "id": "e1242ade-722f-4efd-8a92-8e95ca2213e5",
   "metadata": {},
   "outputs": [],
   "source": []
  },
  {
   "cell_type": "code",
   "execution_count": null,
   "id": "6b2c729f-9e81-4031-97c4-d4229ca7a58e",
   "metadata": {},
   "outputs": [],
   "source": []
  },
  {
   "cell_type": "code",
   "execution_count": null,
   "id": "e42782d4-fc17-4328-810a-332ac51f495c",
   "metadata": {},
   "outputs": [],
   "source": []
  },
  {
   "cell_type": "code",
   "execution_count": null,
   "id": "678a3ee3-3bc8-42c8-87e4-c9a7b7131140",
   "metadata": {},
   "outputs": [],
   "source": []
  }
 ],
 "metadata": {
  "kernelspec": {
   "display_name": "Python 3 (ipykernel)",
   "language": "python",
   "name": "python3"
  },
  "language_info": {
   "codemirror_mode": {
    "name": "ipython",
    "version": 3
   },
   "file_extension": ".py",
   "mimetype": "text/x-python",
   "name": "python",
   "nbconvert_exporter": "python",
   "pygments_lexer": "ipython3",
   "version": "3.8.12"
  }
 },
 "nbformat": 4,
 "nbformat_minor": 5
}
