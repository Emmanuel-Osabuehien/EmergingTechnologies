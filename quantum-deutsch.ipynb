{
 "cells": [
  {
   "cell_type": "markdown",
   "id": "3a8df695-a7b1-4d8d-afef-42286b2e4948",
   "metadata": {},
   "source": [
    "# Quantum-Deutsch\n",
    "***"
   ]
  },
  {
   "cell_type": "markdown",
   "id": "a45b0064-40f2-4957-9928-2527c4262ff4",
   "metadata": {
    "tags": []
   },
   "source": [
    "<br>\n",
    "\n",
    "## Comparison of Quantum Computing and Classical Computing\n",
    "\n",
    "****"
   ]
  },
  {
   "cell_type": "markdown",
   "id": "2cca7288-0d48-4020-8d76-5049dad81784",
   "metadata": {
    "tags": []
   },
   "source": [
    "<br>\n",
    "\n",
    "<h4>What is a quantum computer?</h4>\n",
    "\n",
    "<p>A quantum computer is a machine, built similar to your conventional computer but quantum computers use properties described by quantum physics, used to perform calculations and store data.\n",
    "\n",
    "Quantum computers are still not as popular compared to classical computers due to economic reasons but many believe quantum computers will soon take over supercomputers due to performance as companie across different fields of science are experimenting with quantum computers to advance technology and develop things.</p>\n",
    "\n",
    "<p>Some of the fields that use quantum computers include: </p>\n",
    "\n",
    "- Artifical Intelligence\n",
    "- Cybersecurity\n",
    "- Weather Forecasting\n",
    "- Healthcare\n",
    "- Finance Modelling"
   ]
  },
  {
   "cell_type": "markdown",
   "id": "43ef759a-a018-4d79-897a-65dd12166cc9",
   "metadata": {},
   "source": [
    "<br>\n",
    "\n",
    "<h4>How does a quantum computer work?</h4>\n",
    "\n",
    "<p>Quantum Computing is centered around Quantum Mechanics particularly 'superstition' and 'entanglement', it uses computers to perform calculations using qubits (a quantum bit) but instead of only being in a single state at one time, qubits can be represented using 0 or 1 simultaneously meaning it can be in more than one state at a time.\n",
    "\n",
    "These states are undefined properties of an object before detected, which can be something such as the elctron spin or polarisation of a photon.\n",
    "\n",
    "This allows quantum computers to perform complex mathematical calculations, e.g. Hilbert’s Tenth Problem and Kruskal’s tree theorem\n",
    "or it can solve problems such as producing diffcult to break security codes and predicting real world events</p>"
   ]
  },
  {
   "cell_type": "markdown",
   "id": "ecfe9217-da2b-4922-a4df-593a5a85f363",
   "metadata": {},
   "source": [
    "<br>\n",
    "\n",
    "<h4>What is the difference between quantum computing and classical computing?</h4>\n",
    "\n",
    "<p>Computer have been around since the 19th century and where we started with the use of classical/conventional computing but as time has past and technology evolves we seem to be heading into a direction of computing known now as 'quantum computing' which looks set to completely take over from classical computing.\n",
    "\n",
    "When refering to the term 'Classical Computing' centered around 'electrical circuits', we are refering to use of computers to perform calculations with transisitors and the use of bits where info is stored and represented using  0 meaning 'Off' and 1 eaning 'On', classical computing is still supported to this day.\n",
    "\n",
    "Now in contrast, 'Quantum Computing' is centered around Quantum Mechanics particularly 'superstition' and 'entanglement', it uses computers to perform calculations using qubits (a quantum bit) but instead of only being in a single state at one time, qubits can be represented using 0 or 1 simultaneously meaning it can be in more than one state at a time, giving it an advantage which allows quantum computers to process more data.\n",
    "\n",
    "Other differences between classical and quantum computing includes:\n",
    "\n",
    "- Quantum computing has a higher error rate compared to Classical computing which has a low error rate.\n",
    "- More everyday tasks are completed using Classical computing rather than Quantum computing, quantum is better for tasks such as Simultations and Data Analysis.\n",
    "- Quantum computers are not for simple, everyday use and are used for used mainly in scientific fields which is the opposite of classical computers which are made for common, everyday use.\n",
    "- Classical computing uses classical physics while Quantum Computing uses quantum mechanics and quantum physics.\n",
    "- Classical computing uses your usual programming languages i.e. Java, C#, Python while Quantum computing does not, requiring the development of specific algorithms.</p>"
   ]
  },
  {
   "cell_type": "markdown",
   "id": "a00fcfcf-64f0-46a7-b2c7-66e7157316de",
   "metadata": {
    "tags": []
   },
   "source": [
    "<br>\n",
    "\n",
    "<h4>Deutsch-Jozsa Algorithm</h4>\n",
    "\n",
    "****"
   ]
  },
  {
   "cell_type": "code",
   "execution_count": 1,
   "id": "e42782d4-fc17-4328-810a-332ac51f495c",
   "metadata": {},
   "outputs": [],
   "source": [
    "# Stabdard imports\n",
    "import qiskit as q\n",
    "import matplotlib.pyplot as plt  \n",
    "import numpy as np\n",
    "\n",
    "# Importing qiskit tools\n",
    "from qiskit import QuantumCircuit, execute, Aer, BasicAer, IBMQ, assemble, transpile\n",
    "from qiskit.providers.ibmq import least_busy\n",
    "from qiskit.tools import job_monitor\n",
    "from qiskit.tools.visualization import plot_histogram\n",
    "%matplotlib inline"
   ]
  },
  {
   "cell_type": "code",
   "execution_count": 2,
   "id": "678a3ee3-3bc8-42c8-87e4-c9a7b7131140",
   "metadata": {},
   "outputs": [
    {
     "data": {
      "image/png": "[encoded data removed]",
      "text/plain": [
       "<Figure size 116.697x264.88 with 1 Axes>"
      ]
     },
     "metadata": {},
     "output_type": "display_data"
    },
    {
     "data": {
      "image/png": "[encoded data removed]",
      "text/plain": [
       "<Figure size 146.797x264.88 with 1 Axes>"
      ]
     },
     "metadata": {},
     "output_type": "display_data"
    }
   ],
   "source": [
    "# Assigning the length of the n-bit input string. \n",
    "n=3\n",
    "\n",
    "# Creating a constant oracle for f(x)=0 for all x\n",
    "f0circuit = q.QuantumCircuit(n + 1) \n",
    "\n",
    "# Displaying the cicuit\n",
    "display(f0circuit.draw('mpl'))\n",
    "\n",
    "# Creating a constant oracle for f(x)=1 for all x\n",
    "f1circuit = q.QuantumCircuit(n + 1) \n",
    "\n",
    "# Placing x-gates on each qubit on our circuit\n",
    "f1circuit.x(n)\n",
    "\n",
    "# Displaying the cicuit\n",
    "display(f1circuit.draw('mpl'))"
   ]
  },
  {
   "cell_type": "code",
   "execution_count": 3,
   "id": "8b4afbb5-e387-4bc7-88ee-c087c0fbd3c5",
   "metadata": {},
   "outputs": [
    {
     "data": {
      "text/html": [
       "<pre style=\"word-wrap: normal;white-space: pre;background: #fff0;line-height: 1.1;font-family: &quot;Courier New&quot;,Courier,monospace\">                ░      ┌───┐      ░ \n",
       "q_0: ───────────░───■──┤ X ├──────░─\n",
       "                ░   │  └───┘      ░ \n",
       "q_1: ───────────░───┼─────────────░─\n",
       "                ░   │       ┌───┐ ░ \n",
       "q_2: ───────────░───┼────■──┤ X ├─░─\n",
       "     ┌───┐┌───┐ ░ ┌─┴─┐┌─┴─┐└───┘ ░ \n",
       "q_3: ┤ X ├┤ H ├─░─┤ X ├┤ X ├──────░─\n",
       "     └───┘└───┘ ░ └───┘└───┘      ░ </pre>"
      ],
      "text/plain": [
       "                ░      ┌───┐      ░ \n",
       "q_0: ───────────░───■──┤ X ├──────░─\n",
       "                ░   │  └───┘      ░ \n",
       "q_1: ───────────░───┼─────────────░─\n",
       "                ░   │       ┌───┐ ░ \n",
       "q_2: ───────────░───┼────■──┤ X ├─░─\n",
       "     ┌───┐┌───┐ ░ ┌─┴─┐┌─┴─┐└───┘ ░ \n",
       "q_3: ┤ X ├┤ H ├─░─┤ X ├┤ X ├──────░─\n",
       "     └───┘└───┘ ░ └───┘└───┘      ░ "
      ]
     },
     "execution_count": 3,
     "metadata": {},
     "output_type": "execute_result"
    }
   ],
   "source": [
    "# Creating a constant oracle for f01 of half\n",
    "f01circuit = q.QuantumCircuit(n + 1)\n",
    "\n",
    "# Using X-gates and C-NOT gates\n",
    "xgates = \"101\"\n",
    "cxgates= \"101\"\n",
    "\n",
    "f01circuit.x(n)\n",
    "f01circuit.h(n)\n",
    "\n",
    "# Using barrier as divider\n",
    "f01circuit.barrier()\n",
    "\n",
    "# Placing X-gates on qubits\n",
    "for i in range(n):\n",
    "    if f01circuit[i] == '1':\n",
    "        f01half.x(i)\n",
    "\n",
    "# Placing C-NOT gates on qubits\n",
    "for m in range(n):\n",
    "    if cxgates[m] == '1':\n",
    "        f01circuit.cx(m, n)\n",
    "\n",
    "# Placing X-gates on qubits\n",
    "for k in range(n):\n",
    "    if xgates[k] == '1':\n",
    "        f01circuit.x(k)\n",
    "        \n",
    "f01circuit.barrier()\n",
    "\n",
    "# Displaying the circuit\n",
    "f01circuit.draw()"
   ]
  },
  {
   "cell_type": "code",
   "execution_count": 4,
   "id": "81a36b6b-8e75-41ad-8e43-f40e14c9abe5",
   "metadata": {},
   "outputs": [
    {
     "name": "stderr",
     "output_type": "stream",
     "text": [
      "/tmp/ipykernel_50/56010492.py:13: DeprecationWarning: The QuantumCircuit.__add__() method is being deprecated.Use the compose() method which is more flexible w.r.t circuit register compatibility.\n",
      "  dj_circuit = dj_circuit + f01circuit\n",
      "/opt/conda/lib/python3.9/site-packages/qiskit/circuit/quantumcircuit.py:933: DeprecationWarning: The QuantumCircuit.combine() method is being deprecated. Use the compose() method which is more flexible w.r.t circuit register compatibility.\n",
      "  return self.combine(rhs)\n"
     ]
    },
    {
     "data": {
      "image/png": "[encoded data removed]",
      "text/plain": [
       "<Figure size 989.597x325.08 with 1 Axes>"
      ]
     },
     "execution_count": 4,
     "metadata": {},
     "output_type": "execute_result"
    }
   ],
   "source": [
    "# Creating a balanced oracle\n",
    "dj_circuit = q.QuantumCircuit(n + 1, n)\n",
    "\n",
    "# Apply H-gates\n",
    "for qubit in range(n):\n",
    "    # Put qubit in state |->\n",
    "    dj_circuit.h(qubit)\n",
    "\n",
    "# Using barrier as divider\n",
    "dj_circuit.barrier()\n",
    "\n",
    "# Adding oracle\n",
    "dj_circuit = dj_circuit + f01circuit\n",
    "\n",
    "# Using barrier as divider\n",
    "dj_circuit.barrier()\n",
    "\n",
    "# Applying H-gates on qubits\n",
    "for qubit in range(n):\n",
    "    # Put qubit in state |->\n",
    "    dj_circuit.h(qubit)\n",
    "\n",
    "# Using barrier as divider\n",
    "dj_circuit.barrier()\n",
    "\n",
    "for i in range(n):\n",
    "    # Measuring the input\n",
    "    dj_circuit.measure(i, i)\n",
    "\n",
    "# Displaying the circuit\n",
    "dj_circuit.draw('mpl')"
   ]
  },
  {
   "cell_type": "code",
   "execution_count": 5,
   "id": "3710939a-4189-4891-a693-89219fb1e9d0",
   "metadata": {},
   "outputs": [
    {
     "data": {
      "text/plain": [
       "<QasmSimulatorPy('qasm_simulator')>"
      ]
     },
     "execution_count": 5,
     "metadata": {},
     "output_type": "execute_result"
    }
   ],
   "source": [
    "# Using a local simulator\n",
    "backend = BasicAer.get_backend('qasm_simulator')\n",
    "# Printing the backend\n",
    "backend"
   ]
  },
  {
   "cell_type": "code",
   "execution_count": 6,
   "id": "f2aae8f0-ade9-4945-997f-530f8e911d12",
   "metadata": {},
   "outputs": [
    {
     "data": {
      "text/plain": [
       "1024"
      ]
     },
     "execution_count": 6,
     "metadata": {},
     "output_type": "execute_result"
    }
   ],
   "source": [
    "# Assigning the shots\n",
    "shots = 1024\n",
    "# Printing the shots\n",
    "shots"
   ]
  },
  {
   "cell_type": "code",
   "execution_count": 7,
   "id": "8b94f352-66e4-4bfd-9928-1f9bc8006b7f",
   "metadata": {},
   "outputs": [
    {
     "data": {
      "text/plain": [
       "{'101': 1024}"
      ]
     },
     "execution_count": 7,
     "metadata": {},
     "output_type": "execute_result"
    }
   ],
   "source": [
    "# Executing the experiement\n",
    "results = execute(dj_circuit, backend=backend, shots=shots).result()\n",
    "# Retrieving the histogram data\n",
    "counts = results.get_counts()\n",
    "# Printing the counts\n",
    "counts"
   ]
  },
  {
   "cell_type": "code",
   "execution_count": 8,
   "id": "1c4435b9-b68b-4ce1-aa8f-56b2d25f0e39",
   "metadata": {},
   "outputs": [
    {
     "data": {
      "image/png": "[encoded data removed]",
      "text/plain": [
       "<Figure size 72x288 with 1 Axes>"
      ]
     },
     "execution_count": 8,
     "metadata": {},
     "output_type": "execute_result"
    }
   ],
   "source": [
    "# Plotting the histogram data\n",
    "plot_histogram(counts, figsize=(1, 4))"
   ]
  },
  {
   "cell_type": "code",
   "execution_count": 9,
   "id": "89a9f271-97c4-4f31-9c11-07e67cdd2734",
   "metadata": {},
   "outputs": [
    {
     "name": "stdout",
     "output_type": "stream",
     "text": [
      "least busy backend:  ibmq_belem\n"
     ]
    }
   ],
   "source": [
    "# Connecting to IBMQ\n",
    "IBMQ.load_account()\n",
    "\n",
    "# Accessing the provider\n",
    "provider = IBMQ.get_provider(hub='ibm-q')\n",
    "\n",
    "# Retrieving the least busy backend\n",
    "backend = least_busy(provider.backends(filters=lambda x: x.configuration().n_qubits >= (n+1) and\n",
    "                                   not x.configuration().simulator and x.status().operational==True))\n",
    "\n",
    "# Printing the backend\n",
    "print(\"least busy backend: \", backend)"
   ]
  },
  {
   "cell_type": "code",
   "execution_count": 10,
   "id": "0866d80a-8dfb-4bdc-b983-df696a828329",
   "metadata": {},
   "outputs": [],
   "source": [
    "# Executing the experiement\n",
    "job = execute(dj_circuit, backend=backend, shots=1024)"
   ]
  },
  {
   "cell_type": "code",
   "execution_count": 11,
   "id": "43bab864-b1c0-4c7b-8394-636afd184f53",
   "metadata": {},
   "outputs": [
    {
     "data": {
      "text/plain": [
       "{'000': 38,\n",
       " '001': 165,\n",
       " '010': 10,\n",
       " '011': 70,\n",
       " '100': 57,\n",
       " '101': 491,\n",
       " '110': 23,\n",
       " '111': 170}"
      ]
     },
     "execution_count": 11,
     "metadata": {},
     "output_type": "execute_result"
    }
   ],
   "source": [
    "# Retrieving all counts\n",
    "answer = job.result().get_counts()\n",
    "# Printing all counts\n",
    "answer"
   ]
  },
  {
   "cell_type": "code",
   "execution_count": 12,
   "id": "20456804-b022-4dae-9cc0-e2674cf4cce0",
   "metadata": {},
   "outputs": [
    {
     "name": "stdout",
     "output_type": "stream",
     "text": [
      "Job Status: job has successfully run\n"
     ]
    }
   ],
   "source": [
    "# Monitoring the execution of the job in the queue\n",
    "job_monitor(job, interval=2)"
   ]
  },
  {
   "cell_type": "code",
   "execution_count": 13,
   "id": "5d5d9a20-fb5a-43f7-9801-990f3442cd89",
   "metadata": {},
   "outputs": [
    {
     "data": {
      "text/plain": [
       "<JobStatus.DONE: 'job has successfully run'>"
      ]
     },
     "execution_count": 13,
     "metadata": {},
     "output_type": "execute_result"
    }
   ],
   "source": [
    "# Inspecting the job’s status\n",
    "job.status()"
   ]
  },
  {
   "cell_type": "code",
   "execution_count": 14,
   "id": "1d4bc676-0fb4-49d2-997a-d56fe3832023",
   "metadata": {},
   "outputs": [
    {
     "data": {
      "image/png": "[encoded data removed]",
      "text/plain": [
       "<Figure size 504x360 with 1 Axes>"
      ]
     },
     "execution_count": 14,
     "metadata": {},
     "output_type": "execute_result"
    }
   ],
   "source": [
    "# Plotting the new histogram data\n",
    "plot_histogram(answer)"
   ]
  },
  {
   "cell_type": "markdown",
   "id": "c3b8be55-1db0-4707-90eb-7da80f38138d",
   "metadata": {},
   "source": [
    "****\n",
    "\n",
    "## End"
   ]
  }
 ],
 "metadata": {
  "kernelspec": {
   "display_name": "Python 3 (ipykernel)",
   "language": "python",
   "name": "python3"
  },
  "language_info": {
   "codemirror_mode": {
    "name": "ipython",
    "version": 3
   },
   "file_extension": ".py",
   "mimetype": "text/x-python",
   "name": "python",
   "nbconvert_exporter": "python",
   "pygments_lexer": "ipython3",
   "version": "3.9.7"
  }
 },
 "nbformat": 4,
 "nbformat_minor": 5
}
